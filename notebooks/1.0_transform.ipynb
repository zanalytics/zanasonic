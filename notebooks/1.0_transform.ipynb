{
 "cells": [
  {
   "cell_type": "code",
   "execution_count": 1,
   "id": "d66af7fe",
   "metadata": {},
   "outputs": [],
   "source": [
    "import sys\n",
    "sys.path.append(\"./../ingestion\")"
   ]
  },
  {
   "cell_type": "code",
   "execution_count": 2,
   "id": "486e59a8",
   "metadata": {},
   "outputs": [
    {
     "name": "stderr",
     "output_type": "stream",
     "text": [
      "2021-07-11 00:52:45,152:INFO:Executing transform.py\n",
      "2021-07-11 00:52:45,153:INFO:If not working check the number of months in the price_paid_process function\n"
     ]
    }
   ],
   "source": [
    "from typing import List, Any, Union\n",
    "import numpy as np\n",
    "import pandas as pd\n",
    "from datetime import datetime\n",
    "import dateutil.relativedelta\n",
    "import transform_functions\n",
    "from transform_functions import *\n",
    "import logging\n",
    "from scipy import stats\n",
    "from sklearn.model_selection import train_test_split\n",
    "pd.set_option('display.max_columns', None)\n",
    "random_seed = 42\n",
    "logging.basicConfig(level=logging.INFO, format='%(asctime)s:%(levelname)s:%(message)s')\n",
    "logging.info(f\"Executing transform.py\")\n",
    "logging.info(f\"If not working check the number of months in the price_paid_process function\")\n",
    "\n",
    "column_names = ['id', 'price', 'date', 'postcode',\n",
    "                'type', 'new_build', 'land', 'primary_address',\n",
    "                'secondary_address', 'street', 'locality', 'town_city',\n",
    "                'district', 'county', 'ppd', 'record']"
   ]
  },
  {
   "cell_type": "code",
   "execution_count": null,
   "id": "2c292331",
   "metadata": {},
   "outputs": [],
   "source": [
    "# Read in price paid data\n",
    "# df_price_paid = pd.read_csv(\"./../data/raw/pp-complete.csv\",\n",
    "#                             parse_dates=['date'],\n",
    "#                             names=column_names)"
   ]
  },
  {
   "cell_type": "code",
   "execution_count": null,
   "id": "47aa6bcc",
   "metadata": {},
   "outputs": [],
   "source": [
    "# df_price_paid.head()"
   ]
  },
  {
   "cell_type": "code",
   "execution_count": null,
   "id": "654d7a26",
   "metadata": {},
   "outputs": [],
   "source": [
    "# df_price_paid_notts = df_price_paid[df_price_paid[\"county\"] == \"NOTTINGHAMSHIRE\"]"
   ]
  },
  {
   "cell_type": "code",
   "execution_count": null,
   "id": "94cb87dd",
   "metadata": {},
   "outputs": [],
   "source": [
    "# df_price_paid_notts.to_csv(\"./../data/processed/pp-notts.csv\")"
   ]
  },
  {
   "cell_type": "code",
   "execution_count": 7,
   "id": "800bbb89",
   "metadata": {},
   "outputs": [
    {
     "name": "stderr",
     "output_type": "stream",
     "text": [
      "/Users/chris/.local/share/virtualenvs/zana_housing-IBSbcgn9/lib/python3.8/site-packages/IPython/core/interactiveshell.py:3165: DtypeWarning: Columns (7,17,18,21,22,24,25,29,32,39,47) have mixed types.Specify dtype option on import or set low_memory=False.\n",
      "  has_raised = await self.run_ast_nodes(code_ast.body, cell_name,\n",
      "2021-07-11 00:56:56,223:INFO:Datasets Read\n"
     ]
    }
   ],
   "source": [
    "df_price_paid = pd.read_csv(\"./../data/processed/pp-notts.csv\", index_col=[0])\n",
    "\n",
    "# Read in house price index\n",
    "df_house_index = pd.read_csv(\"./../data/raw/house_price_index.csv\")\n",
    "\n",
    "# Read in postcode data\n",
    "df_postcode = pd.read_csv(\"./../data/raw/postcodes.csv\")\n",
    "\n",
    "logging.info(f\"Datasets Read\")\n",
    "\n",
    "county_rename = {'county_x': 'county'}"
   ]
  },
  {
   "cell_type": "code",
   "execution_count": 8,
   "id": "4a14b53e",
   "metadata": {},
   "outputs": [
    {
     "data": {
      "text/plain": [
       "Index(['id', 'price', 'date', 'postcode', 'type', 'new_build', 'land',\n",
       "       'primary_address', 'secondary_address', 'street', 'locality',\n",
       "       'town_city', 'district', 'county', 'ppd', 'record'],\n",
       "      dtype='object')"
      ]
     },
     "execution_count": 8,
     "metadata": {},
     "output_type": "execute_result"
    }
   ],
   "source": [
    "df_price_paid.columns"
   ]
  },
  {
   "cell_type": "code",
   "execution_count": 9,
   "id": "18f47352",
   "metadata": {},
   "outputs": [],
   "source": [
    "df_price_paid = (df_price_paid\n",
    "                 .pipe(drop_columns, string='lmk_key')\n",
    "                 .rename(county_rename, axis='columns')\n",
    "                 .pipe(remove_duplicates)\n",
    "                 .pipe(price_paid_process,\n",
    "                 min=10000, max=5000000, number_of_months=3)\n",
    "                 .drop(columns=['locality', 'town_city', 'district', 'county'])\n",
    "                 )"
   ]
  },
  {
   "cell_type": "code",
   "execution_count": 10,
   "id": "34a34a1c",
   "metadata": {},
   "outputs": [
    {
     "data": {
      "text/html": [
       "<div>\n",
       "<style scoped>\n",
       "    .dataframe tbody tr th:only-of-type {\n",
       "        vertical-align: middle;\n",
       "    }\n",
       "\n",
       "    .dataframe tbody tr th {\n",
       "        vertical-align: top;\n",
       "    }\n",
       "\n",
       "    .dataframe thead th {\n",
       "        text-align: right;\n",
       "    }\n",
       "</style>\n",
       "<table border=\"1\" class=\"dataframe\">\n",
       "  <thead>\n",
       "    <tr style=\"text-align: right;\">\n",
       "      <th></th>\n",
       "      <th>id</th>\n",
       "      <th>price</th>\n",
       "      <th>date</th>\n",
       "      <th>postcode</th>\n",
       "      <th>type</th>\n",
       "      <th>new_build</th>\n",
       "      <th>land</th>\n",
       "      <th>primary_address</th>\n",
       "      <th>secondary_address</th>\n",
       "      <th>street</th>\n",
       "      <th>ppd</th>\n",
       "      <th>record</th>\n",
       "      <th>month_year</th>\n",
       "      <th>current_month</th>\n",
       "    </tr>\n",
       "  </thead>\n",
       "  <tbody>\n",
       "    <tr>\n",
       "      <th>0</th>\n",
       "      <td>{470081E3-FA40-41ED-9F50-4BB9886B36D8}</td>\n",
       "      <td>48000</td>\n",
       "      <td>1995-11-03</td>\n",
       "      <td>NG25 0DS</td>\n",
       "      <td>S</td>\n",
       "      <td>N</td>\n",
       "      <td>F</td>\n",
       "      <td>54</td>\n",
       "      <td>NaN</td>\n",
       "      <td>NORWOOD GARDENS</td>\n",
       "      <td>A</td>\n",
       "      <td>A</td>\n",
       "      <td>1995-11-01</td>\n",
       "      <td>2021-04-01</td>\n",
       "    </tr>\n",
       "    <tr>\n",
       "      <th>1</th>\n",
       "      <td>{E58774C2-3011-484A-B631-5A06F3FB5BC9}</td>\n",
       "      <td>102500</td>\n",
       "      <td>1995-09-28</td>\n",
       "      <td>NG2 6RP</td>\n",
       "      <td>D</td>\n",
       "      <td>Y</td>\n",
       "      <td>F</td>\n",
       "      <td>9</td>\n",
       "      <td>NaN</td>\n",
       "      <td>THIRLMERE</td>\n",
       "      <td>A</td>\n",
       "      <td>A</td>\n",
       "      <td>1995-09-01</td>\n",
       "      <td>2021-04-01</td>\n",
       "    </tr>\n",
       "    <tr>\n",
       "      <th>2</th>\n",
       "      <td>{4C4372D5-E9AA-4273-BA9B-5A078B374BAB}</td>\n",
       "      <td>50000</td>\n",
       "      <td>1995-02-24</td>\n",
       "      <td>NG16 2BL</td>\n",
       "      <td>D</td>\n",
       "      <td>N</td>\n",
       "      <td>F</td>\n",
       "      <td>31</td>\n",
       "      <td>NaN</td>\n",
       "      <td>VIOLET AVENUE</td>\n",
       "      <td>A</td>\n",
       "      <td>A</td>\n",
       "      <td>1995-02-01</td>\n",
       "      <td>2021-04-01</td>\n",
       "    </tr>\n",
       "    <tr>\n",
       "      <th>3</th>\n",
       "      <td>{7FF5CA89-7D83-4A7E-A8FC-5A07B81E558C}</td>\n",
       "      <td>63500</td>\n",
       "      <td>1995-04-21</td>\n",
       "      <td>NG24 4RX</td>\n",
       "      <td>D</td>\n",
       "      <td>N</td>\n",
       "      <td>F</td>\n",
       "      <td>2</td>\n",
       "      <td>NaN</td>\n",
       "      <td>THE HOLT</td>\n",
       "      <td>A</td>\n",
       "      <td>A</td>\n",
       "      <td>1995-04-01</td>\n",
       "      <td>2021-04-01</td>\n",
       "    </tr>\n",
       "    <tr>\n",
       "      <th>4</th>\n",
       "      <td>{112275E1-3F92-45DE-BD89-4F4B5790F5EE}</td>\n",
       "      <td>58500</td>\n",
       "      <td>1995-06-16</td>\n",
       "      <td>NG5 8AB</td>\n",
       "      <td>S</td>\n",
       "      <td>N</td>\n",
       "      <td>F</td>\n",
       "      <td>40</td>\n",
       "      <td>NaN</td>\n",
       "      <td>HARWOOD CLOSE</td>\n",
       "      <td>A</td>\n",
       "      <td>A</td>\n",
       "      <td>1995-06-01</td>\n",
       "      <td>2021-04-01</td>\n",
       "    </tr>\n",
       "  </tbody>\n",
       "</table>\n",
       "</div>"
      ],
      "text/plain": [
       "                                       id   price        date  postcode type  \\\n",
       "0  {470081E3-FA40-41ED-9F50-4BB9886B36D8}   48000  1995-11-03  NG25 0DS    S   \n",
       "1  {E58774C2-3011-484A-B631-5A06F3FB5BC9}  102500  1995-09-28   NG2 6RP    D   \n",
       "2  {4C4372D5-E9AA-4273-BA9B-5A078B374BAB}   50000  1995-02-24  NG16 2BL    D   \n",
       "3  {7FF5CA89-7D83-4A7E-A8FC-5A07B81E558C}   63500  1995-04-21  NG24 4RX    D   \n",
       "4  {112275E1-3F92-45DE-BD89-4F4B5790F5EE}   58500  1995-06-16   NG5 8AB    S   \n",
       "\n",
       "  new_build land primary_address secondary_address           street ppd  \\\n",
       "0         N    F              54               NaN  NORWOOD GARDENS   A   \n",
       "1         Y    F               9               NaN        THIRLMERE   A   \n",
       "2         N    F              31               NaN    VIOLET AVENUE   A   \n",
       "3         N    F               2               NaN         THE HOLT   A   \n",
       "4         N    F              40               NaN    HARWOOD CLOSE   A   \n",
       "\n",
       "  record month_year current_month  \n",
       "0      A 1995-11-01    2021-04-01  \n",
       "1      A 1995-09-01    2021-04-01  \n",
       "2      A 1995-02-01    2021-04-01  \n",
       "3      A 1995-04-01    2021-04-01  \n",
       "4      A 1995-06-01    2021-04-01  "
      ]
     },
     "execution_count": 10,
     "metadata": {},
     "output_type": "execute_result"
    }
   ],
   "source": [
    "df_price_paid.head()"
   ]
  },
  {
   "cell_type": "code",
   "execution_count": 11,
   "id": "0c725f8e",
   "metadata": {},
   "outputs": [
    {
     "name": "stderr",
     "output_type": "stream",
     "text": [
      "./../ingestion/transform_functions.py:20: FutureWarning: The default value of regex will change from True to False in a future version. In addition, single character regular expressions will*not* be treated as literal strings when regex=True.\n",
      "  df.columns = df.columns.str.replace(\".\", '_')\n"
     ]
    }
   ],
   "source": [
    "df_house_index = (df_house_index.pipe(clean_names)\n",
    "                  .pipe(drop_columns, string='change|price')\n",
    "                  .pipe(col_to_dates, cols=['date'])\n",
    "                  .rename({'date': 'hpi_date'}, axis='columns')\n",
    "                  )\n",
    "\n",
    "postcode_columns: List[Union[str, Any]] = ['postcode', 'latitude', 'longitude',\n",
    "                                           'grid_ref', 'county', 'district',\n",
    "                                           'ward', 'district_code',\n",
    "                                           'ward_code', 'county_code',\n",
    "                                           'constituency', 'region',\n",
    "                                           'london_zone',\n",
    "                                           'middle_layer_super_output_area',\n",
    "                                           'postcode_area',\n",
    "                                           'postcode_district',\n",
    "                                           'index_of_multiple_deprivation',\n",
    "                                           'quality', 'user_type',\n",
    "                                           'last_updated', 'nearest_station',\n",
    "                                           'distance_to_station',\n",
    "                                           'postcode_area', 'postcode_district',\n",
    "                                           'police_force', 'water_company',\n",
    "                                           'plus_code', 'average_income',\n",
    "                                           'sewage_company',\n",
    "                                           'travel_to_work_area', 'rural_urban',\n",
    "                                           'altitude']\n",
    "\n",
    "df_postcode = (df_postcode.pipe(clean_names)\n",
    "               .loc[:, postcode_columns]\n",
    "               )\n",
    "\n",
    "pp_index_columns = {'detached_index': 'pp_detached_index',\n",
    "                    'semi_detached_index': 'pp_semi_detached_index',\n",
    "                    'terraced_index': 'pp_terraced_index',\n",
    "                    'flat_index': 'pp_flat_index',\n",
    "                    }\n",
    "\n",
    "pp_avg_columns = ['pp_detached_index', 'pp_semi_detached_index',\n",
    "                  'pp_terraced_index', 'pp_flat_index']\n",
    "avg_columns = ['detached_index', 'semi_detached_index',\n",
    "               'terraced_index', 'flat_index']"
   ]
  },
  {
   "cell_type": "code",
   "execution_count": 12,
   "id": "0a85ae62",
   "metadata": {},
   "outputs": [],
   "source": [
    "df_price_paid = (df_price_paid\n",
    "                 .merge(df_postcode, on='postcode')\n",
    "                 .merge(df_house_index, how='left',\n",
    "                        left_on=['district_code', 'month_year'],\n",
    "                        right_on=['area_code', 'hpi_date'])\n",
    "                 .rename(pp_index_columns, axis='columns')\n",
    "                 .pipe(mean_column, 'pp_average_index', pp_avg_columns)\n",
    "                 .merge(df_house_index, how='left',\n",
    "                        left_on=['district_code', 'current_month'],\n",
    "                        right_on=['area_code', 'hpi_date'])\n",
    "                 .pipe(mean_column, 'average_index', avg_columns)\n",
    "                 .pipe(adjust_price, 'T', 'terraced_index',\n",
    "                       'pp_terraced_index')\n",
    "                .pipe(adjust_price, 'S', 'semi_detached_index',\n",
    "                       'pp_semi_detached_index')\n",
    "                 .pipe(adjust_price, 'D', 'detached_index',\n",
    "                       'pp_detached_index')\n",
    "                 .pipe(adjust_price, 'F', 'flat_index', 'pp_flat_index')\n",
    "                 .pipe(adjust_price, 'O', 'average_index', 'pp_average_index')\n",
    "                 )"
   ]
  },
  {
   "cell_type": "code",
   "execution_count": 13,
   "id": "2a616fc3",
   "metadata": {},
   "outputs": [
    {
     "name": "stderr",
     "output_type": "stream",
     "text": [
      "2021-07-11 01:00:56,727:INFO:Completed processing\n"
     ]
    }
   ],
   "source": [
    "duplicate_list = ['date', 'postcode', 'type', 'new_build', 'land',\n",
    "                  'primary_address', 'secondary_address', 'street',\n",
    "                  'ppd', 'record', 'month_year', 'current_month',\n",
    "                  'latitude', 'longitude', 'grid_ref', 'county',\n",
    "                  'district', 'ward', 'district_code', 'ward_code',\n",
    "                  'county_code', 'region',\n",
    "                  'london_zone', 'middle_layer_super_output_area',\n",
    "                  'postcode_area', 'postcode_district',\n",
    "                  'hpi_date', 'region_name', 'area_code']\n",
    "\n",
    "df_price_paid = (df_price_paid\n",
    "                 .pipe(drop_columns, string='e_y|index')\n",
    "                 .rename({'hpi_date_x': 'hpi_date',\n",
    "                          'region_name_x': 'region_name',\n",
    "                          'area_code_x': 'area_code'}, axis='columns')\n",
    "                 .sort_values(by=['date'])\n",
    "                 .drop_duplicates(subset=duplicate_list, keep=\"last\"))\n",
    "\n",
    "df_price_paid = df_price_paid[df_price_paid['adjusted_price'].notnull()]\n",
    "df_price_paid['adjusted_price'] = df_price_paid['adjusted_price'].astype(int)\n",
    "df_price_paid = df_price_paid[(np.abs(stats.zscore(df_price_paid[\"adjusted_price\"])) < 3)]\n",
    "df_price_paid[\"london_zone\"] = df_price_paid[\"london_zone\"].fillna(df_price_paid.london_zone.max() + 1.0)\n",
    "logging.info(\"Completed processing\")"
   ]
  },
  {
   "cell_type": "code",
   "execution_count": null,
   "id": "86ba8462",
   "metadata": {},
   "outputs": [],
   "source": [
    "df_price_paid.head()"
   ]
  },
  {
   "cell_type": "code",
   "execution_count": 14,
   "id": "f4cdd270",
   "metadata": {},
   "outputs": [
    {
     "name": "stderr",
     "output_type": "stream",
     "text": [
      "2021-07-11 01:01:30,311:INFO:Transforming and splitting complete\n"
     ]
    }
   ],
   "source": [
    "# Lets drop the duplicates, keeping only the first instance.\n",
    "df_price_paid.to_csv(\"./../data/processed/pp_nottinghamshire.csv\", index=False)\n",
    "\n",
    "# # Split the data - train, validation and test\n",
    "# train_set, test_set = train_test_split(df_price_paid,\n",
    "#                                        test_size=0.30,\n",
    "#                                        random_state=random_seed)\n",
    "#\n",
    "# test_set, validation_set = train_test_split(test_set,\n",
    "#                                             test_size=0.20,\n",
    "#                                             random_state=random_seed)\n",
    "#\n",
    "# logging.info(f\"Training shape: {train_set.shape}\")\n",
    "# logging.info(f\"Validation shape: {validation_set.shape}\")\n",
    "# logging.info(f\"Test shape: {test_set.shape}\")\n",
    "#\n",
    "# # Save the split files\n",
    "# train_set.to_csv(\"./data/processed/train.csv\", index=False)\n",
    "# validation_set.to_csv(\"./data/processed/validation.csv\", index=False)\n",
    "# test_set.to_csv(\"./data/processed/test.csv\", index=False)\n",
    "\n",
    "logging.info(f\"Transforming and splitting complete\")"
   ]
  },
  {
   "cell_type": "code",
   "execution_count": null,
   "id": "b2387083",
   "metadata": {},
   "outputs": [],
   "source": []
  },
  {
   "cell_type": "code",
   "execution_count": null,
   "id": "454a6db4",
   "metadata": {},
   "outputs": [],
   "source": []
  },
  {
   "cell_type": "code",
   "execution_count": null,
   "id": "d4e5f3ec",
   "metadata": {},
   "outputs": [],
   "source": []
  },
  {
   "cell_type": "code",
   "execution_count": null,
   "id": "4233a3fd",
   "metadata": {},
   "outputs": [],
   "source": []
  }
 ],
 "metadata": {
  "kernelspec": {
   "display_name": "zana_housing",
   "language": "python",
   "name": "zana_housing"
  },
  "language_info": {
   "codemirror_mode": {
    "name": "ipython",
    "version": 3
   },
   "file_extension": ".py",
   "mimetype": "text/x-python",
   "name": "python",
   "nbconvert_exporter": "python",
   "pygments_lexer": "ipython3",
   "version": "3.8.3"
  }
 },
 "nbformat": 4,
 "nbformat_minor": 5
}
