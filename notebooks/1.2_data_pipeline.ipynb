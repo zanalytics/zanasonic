{
 "cells": [
  {
   "cell_type": "code",
   "execution_count": 1,
   "id": "ac5cf62c",
   "metadata": {},
   "outputs": [],
   "source": [
    "# data manipulation and plotting\n",
    "import pandas as pd\n",
    "import numpy as np\n",
    "import matplotlib.pyplot as plt\n",
    "import logging \n",
    "\n",
    "# for saving the pipeline\n",
    "import joblib\n",
    "\n",
    "# from Scikit-learn\n",
    "from sklearn.model_selection import train_test_split\n",
    "from sklearn.pipeline import Pipeline, FeatureUnion\n",
    "from sklearn.linear_model import Lasso\n",
    "from sklearn.ensemble import RandomForestRegressor\n",
    "from sklearn.preprocessing import MinMaxScaler\n",
    "from sklearn.metrics import mean_squared_error, r2_score\n",
    "from sklearn.feature_selection import SelectKBest\n",
    "from sklearn.feature_selection import f_regression\n",
    "\n",
    "# from feature-engine\n",
    "from feature_engine.imputation import (\n",
    "    AddMissingIndicator,\n",
    "    MeanMedianImputer,\n",
    "    CategoricalImputer,\n",
    ")\n",
    "\n",
    "from feature_engine.encoding import (\n",
    "    RareLabelEncoder,\n",
    "    OrdinalEncoder,\n",
    "    OneHotEncoder\n",
    ")\n",
    "\n",
    "from feature_engine.transformation import (\n",
    "    LogTransformer,\n",
    "    YeoJohnsonTransformer,\n",
    ")\n",
    "\n",
    "from feature_engine.selection import DropFeatures\n",
    "from feature_engine.wrappers import SklearnTransformerWrapper\n",
    "\n",
    "# to visualise al the columns in the dataframe\n",
    "pd.pandas.set_option('display.max_columns', None)\n",
    "\n",
    "# to display all the columns of the dataframe in the notebook\n",
    "pd.pandas.set_option('display.max_columns', None)\n",
    "pd.options.display.max_columns = None\n",
    "pd.options.display.max_rows = None\n",
    "\n",
    "logging.basicConfig(level=logging.INFO, format='%(asctime)s:%(levelname)s:%(message)s')"
   ]
  },
  {
   "cell_type": "markdown",
   "id": "46b35c5e",
   "metadata": {},
   "source": [
    "# Config"
   ]
  },
  {
   "cell_type": "code",
   "execution_count": 26,
   "id": "7ec76263",
   "metadata": {},
   "outputs": [],
   "source": [
    "# columns to read\n",
    "\n",
    "RANDOM_SEED = 42\n",
    "\n",
    "DF_COLUMNS = [\"sewage_company\", \"altitude\", \"postcode_area\",\n",
    "              \"new_build\", \"type\", \"ward\", \"constituency\", \"price\"]\n",
    "\n",
    "\n",
    "# ['type',\n",
    "#               'constituency',\n",
    "#               'postcode_district',\n",
    "#               'average_income',\n",
    "#               'region_name',\n",
    "#               'area_code',\n",
    "#               'year',\n",
    "#              'price']\n",
    "\n",
    "# categorical variables with NA in train set\n",
    "CATEGORICAL_VARS_WITH_NA_FREQUENT = []\n",
    "\n",
    "\n",
    "CATEGORICAL_VARS_WITH_NA_MISSING = []\n",
    "\n",
    "\n",
    "# numerical variables with NA in train set\n",
    "NUMERICAL_VARS_WITH_NA = []\n",
    "\n",
    "\n",
    "TEMPORAL_VARS = []\n",
    "\n",
    "\n",
    "# variables to log transform\n",
    "NUMERICALS_LOG_VARS = []\n",
    "\n",
    "DROP_VARS = []\n",
    "\n",
    "\n",
    "# onehot encode\n",
    "ONE_HOT_VARS = [\"new_build\", \"type\", \"ward\"]\n",
    "\n",
    "# categorical variables to encode\n",
    "CATEGORICAL_VARS = [\n",
    "       'constituency', \"sewage_company\",\n",
    "       \"postcode_area\"\n",
    "       ]\n",
    "\n",
    "# [\n",
    "#        'constituency', 'postcode_district',\n",
    "#        'region_name', 'area_code'\n",
    "#        ]"
   ]
  },
  {
   "cell_type": "code",
   "execution_count": null,
   "id": "a788aaa0",
   "metadata": {},
   "outputs": [],
   "source": []
  },
  {
   "cell_type": "code",
   "execution_count": 27,
   "id": "75c30237",
   "metadata": {},
   "outputs": [
    {
     "name": "stdout",
     "output_type": "stream",
     "text": [
      "(380989, 8)\n"
     ]
    },
    {
     "data": {
      "text/html": [
       "<div>\n",
       "<style scoped>\n",
       "    .dataframe tbody tr th:only-of-type {\n",
       "        vertical-align: middle;\n",
       "    }\n",
       "\n",
       "    .dataframe tbody tr th {\n",
       "        vertical-align: top;\n",
       "    }\n",
       "\n",
       "    .dataframe thead th {\n",
       "        text-align: right;\n",
       "    }\n",
       "</style>\n",
       "<table border=\"1\" class=\"dataframe\">\n",
       "  <thead>\n",
       "    <tr style=\"text-align: right;\">\n",
       "      <th></th>\n",
       "      <th>price</th>\n",
       "      <th>type</th>\n",
       "      <th>new_build</th>\n",
       "      <th>ward</th>\n",
       "      <th>constituency</th>\n",
       "      <th>postcode_area</th>\n",
       "      <th>sewage_company</th>\n",
       "      <th>altitude</th>\n",
       "    </tr>\n",
       "  </thead>\n",
       "  <tbody>\n",
       "    <tr>\n",
       "      <th>0</th>\n",
       "      <td>53000</td>\n",
       "      <td>D</td>\n",
       "      <td>N</td>\n",
       "      <td>Eastwood Hilltop</td>\n",
       "      <td>Ashfield</td>\n",
       "      <td>NG</td>\n",
       "      <td>NaN</td>\n",
       "      <td>106.0</td>\n",
       "    </tr>\n",
       "    <tr>\n",
       "      <th>1</th>\n",
       "      <td>28000</td>\n",
       "      <td>T</td>\n",
       "      <td>N</td>\n",
       "      <td>Aspley</td>\n",
       "      <td>Nottingham North</td>\n",
       "      <td>NG</td>\n",
       "      <td>NaN</td>\n",
       "      <td>88.0</td>\n",
       "    </tr>\n",
       "    <tr>\n",
       "      <th>2</th>\n",
       "      <td>67000</td>\n",
       "      <td>D</td>\n",
       "      <td>N</td>\n",
       "      <td>Sutton-on-Trent</td>\n",
       "      <td>Newark</td>\n",
       "      <td>NG</td>\n",
       "      <td>NaN</td>\n",
       "      <td>17.0</td>\n",
       "    </tr>\n",
       "    <tr>\n",
       "      <th>3</th>\n",
       "      <td>33500</td>\n",
       "      <td>S</td>\n",
       "      <td>N</td>\n",
       "      <td>Bilborough</td>\n",
       "      <td>Nottingham North</td>\n",
       "      <td>NG</td>\n",
       "      <td>NaN</td>\n",
       "      <td>68.0</td>\n",
       "    </tr>\n",
       "    <tr>\n",
       "      <th>4</th>\n",
       "      <td>45000</td>\n",
       "      <td>S</td>\n",
       "      <td>N</td>\n",
       "      <td>Holly</td>\n",
       "      <td>Mansfield</td>\n",
       "      <td>NG</td>\n",
       "      <td>NaN</td>\n",
       "      <td>123.0</td>\n",
       "    </tr>\n",
       "  </tbody>\n",
       "</table>\n",
       "</div>"
      ],
      "text/plain": [
       "   price type new_build              ward      constituency postcode_area  \\\n",
       "0  53000    D         N  Eastwood Hilltop          Ashfield            NG   \n",
       "1  28000    T         N            Aspley  Nottingham North            NG   \n",
       "2  67000    D         N   Sutton-on-Trent            Newark            NG   \n",
       "3  33500    S         N        Bilborough  Nottingham North            NG   \n",
       "4  45000    S         N             Holly         Mansfield            NG   \n",
       "\n",
       "  sewage_company  altitude  \n",
       "0            NaN     106.0  \n",
       "1            NaN      88.0  \n",
       "2            NaN      17.0  \n",
       "3            NaN      68.0  \n",
       "4            NaN     123.0  "
      ]
     },
     "execution_count": 27,
     "metadata": {},
     "output_type": "execute_result"
    }
   ],
   "source": [
    "# load dataset\n",
    "data = pd.read_csv('../zanasonic/datasets/processed/pp_nottinghamshire.csv', usecols=DF_COLUMNS)\n",
    "\n",
    "# rows and columns of the data\n",
    "print(data.shape)\n",
    "\n",
    "# visualise the dataset\n",
    "data.head()"
   ]
  },
  {
   "cell_type": "code",
   "execution_count": 24,
   "id": "76a5dfc5",
   "metadata": {},
   "outputs": [
    {
     "data": {
      "text/plain": [
       "type                   0\n",
       "new_build              0\n",
       "ward                   0\n",
       "constituency           0\n",
       "postcode_area          0\n",
       "sewage_company    379666\n",
       "altitude               0\n",
       "dtype: int64"
      ]
     },
     "execution_count": 24,
     "metadata": {},
     "output_type": "execute_result"
    }
   ],
   "source": [
    "data.isna().sum()"
   ]
  },
  {
   "cell_type": "code",
   "execution_count": 28,
   "id": "4b415c8c",
   "metadata": {},
   "outputs": [
    {
     "name": "stderr",
     "output_type": "stream",
     "text": [
      "2021-07-17 18:37:54,627:INFO:Training shape: (266692, 8)\n",
      "2021-07-17 18:37:54,628:INFO:Validation shape: (22860, 8)\n",
      "2021-07-17 18:37:54,629:INFO:Test shape: (91437, 8)\n"
     ]
    }
   ],
   "source": [
    "\n",
    "# Split the data - train, validation and test\n",
    "train_set, test_set = train_test_split(data,\n",
    "                                       test_size=0.30,\n",
    "                                       random_state=RANDOM_SEED)\n",
    "\n",
    "test_set, validation_set = train_test_split(test_set,\n",
    "                                            test_size=0.20,\n",
    "                                            random_state=RANDOM_SEED)\n",
    "\n",
    "# # load the pre-selected features\n",
    "# # ==============================\n",
    "\n",
    "X_train = train_set.drop('price', axis = 1)\n",
    "X_test = validation_set.drop('price', axis = 1)\n",
    "\n",
    "y_train = train_set['price']\n",
    "y_test = validation_set['price']\n",
    "\n",
    "logging.info(f\"Training shape: {train_set.shape}\")\n",
    "logging.info(f\"Validation shape: {validation_set.shape}\")\n",
    "logging.info(f\"Test shape: {test_set.shape}\")\n",
    "\n",
    "# Save the split files\n",
    "# train_set.to_csv(\"../data/processed/train.csv\", index=False)\n",
    "# validation_set.to_csv(\"../data/processed/validation.csv\", index=False)\n",
    "# test_set.to_csv(\"../data/processed/test.csv\", index=False)"
   ]
  },
  {
   "cell_type": "code",
   "execution_count": null,
   "id": "a456e8d1",
   "metadata": {},
   "outputs": [],
   "source": []
  },
  {
   "cell_type": "code",
   "execution_count": 29,
   "id": "c4960a5c",
   "metadata": {},
   "outputs": [
    {
     "data": {
      "text/html": [
       "<div>\n",
       "<style scoped>\n",
       "    .dataframe tbody tr th:only-of-type {\n",
       "        vertical-align: middle;\n",
       "    }\n",
       "\n",
       "    .dataframe tbody tr th {\n",
       "        vertical-align: top;\n",
       "    }\n",
       "\n",
       "    .dataframe thead th {\n",
       "        text-align: right;\n",
       "    }\n",
       "</style>\n",
       "<table border=\"1\" class=\"dataframe\">\n",
       "  <thead>\n",
       "    <tr style=\"text-align: right;\">\n",
       "      <th></th>\n",
       "      <th>type</th>\n",
       "      <th>new_build</th>\n",
       "      <th>ward</th>\n",
       "      <th>constituency</th>\n",
       "      <th>postcode_area</th>\n",
       "      <th>sewage_company</th>\n",
       "      <th>altitude</th>\n",
       "    </tr>\n",
       "  </thead>\n",
       "  <tbody>\n",
       "    <tr>\n",
       "      <th>111297</th>\n",
       "      <td>D</td>\n",
       "      <td>N</td>\n",
       "      <td>Bingham West</td>\n",
       "      <td>Newark</td>\n",
       "      <td>NG</td>\n",
       "      <td>NaN</td>\n",
       "      <td>29.0</td>\n",
       "    </tr>\n",
       "    <tr>\n",
       "      <th>175648</th>\n",
       "      <td>S</td>\n",
       "      <td>N</td>\n",
       "      <td>Compton Acres</td>\n",
       "      <td>Rushcliffe</td>\n",
       "      <td>NG</td>\n",
       "      <td>NaN</td>\n",
       "      <td>46.0</td>\n",
       "    </tr>\n",
       "  </tbody>\n",
       "</table>\n",
       "</div>"
      ],
      "text/plain": [
       "       type new_build           ward constituency postcode_area  \\\n",
       "111297    D         N   Bingham West       Newark            NG   \n",
       "175648    S         N  Compton Acres   Rushcliffe            NG   \n",
       "\n",
       "       sewage_company  altitude  \n",
       "111297            NaN      29.0  \n",
       "175648            NaN      46.0  "
      ]
     },
     "execution_count": 29,
     "metadata": {},
     "output_type": "execute_result"
    }
   ],
   "source": [
    "X_train.head(2)"
   ]
  },
  {
   "cell_type": "code",
   "execution_count": 35,
   "id": "27e61fcf",
   "metadata": {},
   "outputs": [],
   "source": [
    "# set up the pipeline\n",
    "transform_pipeline = Pipeline([\n",
    "\n",
    "     # ===== IMPUTATION =====\n",
    "    # impute categorical variables with string missing\n",
    "    ('missing_imputation', CategoricalImputer(\n",
    "        imputation_method='missing', variables=CATEGORICAL_VARS_WITH_NA_MISSING)),\n",
    "\n",
    "    ('frequent_imputation', CategoricalImputer(\n",
    "        imputation_method='frequent', variables=CATEGORICAL_VARS_WITH_NA_FREQUENT)),\n",
    "\n",
    "    # add missing indicator\n",
    "    ('missing_indicator', AddMissingIndicator(variables=NUMERICAL_VARS_WITH_NA)),\n",
    "\n",
    "    # impute numerical variables with the mean\n",
    "    ('mean_imputation', MeanMedianImputer(\n",
    "        imputation_method='mean', variables=NUMERICAL_VARS_WITH_NA\n",
    "    )),\n",
    "\n",
    "    #('drop_features', DropFeatures(features_to_drop=DROP_VARS)),\n",
    "\n",
    "    # ==== VARIABLE TRANSFORMATION =====\n",
    "    #('log', LogTransformer(variables=NUMERICALS_LOG_VARS)),\n",
    "    \n",
    "    ('one_hot_encode', OneHotEncoder(top_categories=None, variables=ONE_HOT_VARS, drop_last=True)),\n",
    "\n",
    "    # == CATEGORICAL ENCODING\n",
    "    ('rare_label_encoder', RareLabelEncoder(\n",
    "        tol=0.01, n_categories=3, variables=CATEGORICAL_VARS\n",
    "    )),\n",
    "\n",
    "    # encode categorical and discrete variables using the target mean\n",
    "    ('categorical_encoder', OrdinalEncoder(\n",
    "         encoding_method='ordered', variables=CATEGORICAL_VARS)),\n",
    "     ('scaler', MinMaxScaler()),\n",
    "])"
   ]
  },
  {
   "cell_type": "code",
   "execution_count": 36,
   "id": "e02a74de",
   "metadata": {},
   "outputs": [],
   "source": [
    "model_pipeline = Pipeline(steps=[('preparation_pipeline', transform_pipeline),\n",
    "                                 ('model', RandomForestRegressor())\n",
    "                                ])"
   ]
  },
  {
   "cell_type": "code",
   "execution_count": 37,
   "id": "539926f7",
   "metadata": {},
   "outputs": [
    {
     "data": {
      "text/plain": [
       "Pipeline(steps=[('preparation_pipeline',\n",
       "                 Pipeline(steps=[('missing_imputation',\n",
       "                                  CategoricalImputer(variables=[])),\n",
       "                                 ('frequent_imputation',\n",
       "                                  CategoricalImputer(imputation_method='frequent',\n",
       "                                                     variables=[])),\n",
       "                                 ('missing_indicator',\n",
       "                                  AddMissingIndicator(variables=[])),\n",
       "                                 ('mean_imputation',\n",
       "                                  MeanMedianImputer(imputation_method='mean',\n",
       "                                                    variables=[])),\n",
       "                                 ('one_hot_encode',\n",
       "                                  O...coder(drop_last=True,\n",
       "                                                variables=['new_build', 'type',\n",
       "                                                           'ward'])),\n",
       "                                 ('rare_label_encoder',\n",
       "                                  RareLabelEncoder(n_categories=3, tol=0.01,\n",
       "                                                   variables=['constituency',\n",
       "                                                              'sewage_company',\n",
       "                                                              'postcode_area'])),\n",
       "                                 ('categorical_encoder',\n",
       "                                  OrdinalEncoder(variables=['constituency',\n",
       "                                                            'sewage_company',\n",
       "                                                            'postcode_area'])),\n",
       "                                 ('scaler', MinMaxScaler())])),\n",
       "                ('model', RandomForestRegressor())])"
      ]
     },
     "execution_count": 37,
     "metadata": {},
     "output_type": "execute_result"
    }
   ],
   "source": [
    "model_pipeline.fit(X_train, y_train)"
   ]
  },
  {
   "cell_type": "code",
   "execution_count": 38,
   "id": "8c866739",
   "metadata": {},
   "outputs": [
    {
     "name": "stderr",
     "output_type": "stream",
     "text": [
      "/Users/chris/github/zanalytics/repositories/zanasonic/.venv/lib/python3.9/site-packages/feature_engine/encoding/one_hot.py:275: PerformanceWarning: DataFrame is highly fragmented.  This is usually the result of calling `frame.insert` many times, which has poor performance.  Consider using pd.concat instead.  To get a de-fragmented frame, use `newframe = frame.copy()`\n",
      "  X[str(feature) + \"_\" + str(category)] = np.where(\n"
     ]
    },
    {
     "name": "stdout",
     "output_type": "stream",
     "text": [
      "train mse: 3720456304\n",
      "train rmse: 60995\n",
      "train r2: 0.528235673027099\n",
      "\n"
     ]
    }
   ],
   "source": [
    "# evaluate the model:\n",
    "# ====================\n",
    "\n",
    "# make predictions for train set\n",
    "pred = model_pipeline.predict(X_train)\n",
    "\n",
    "\n",
    "# determine mse, rmse and r2\n",
    "print('train mse: {}'.format(int(\n",
    "    mean_squared_error(y_train, pred))))\n",
    "print('train rmse: {}'.format(int(\n",
    "    mean_squared_error(y_train, pred, squared=False))))\n",
    "print('train r2: {}'.format(\n",
    "    r2_score(y_train, pred)))\n",
    "print()\n"
   ]
  },
  {
   "cell_type": "code",
   "execution_count": 47,
   "id": "3a833e22",
   "metadata": {},
   "outputs": [
    {
     "data": {
      "text/plain": [
       "S    8329\n",
       "D    8190\n",
       "T    5083\n",
       "F    1102\n",
       "O     156\n",
       "Name: type, dtype: int64"
      ]
     },
     "execution_count": 47,
     "metadata": {},
     "output_type": "execute_result"
    }
   ],
   "source": [
    "X_test[\"type\"].value_counts()"
   ]
  },
  {
   "cell_type": "code",
   "execution_count": 42,
   "id": "c78d26af",
   "metadata": {},
   "outputs": [
    {
     "name": "stderr",
     "output_type": "stream",
     "text": [
      "/Users/chris/github/zanalytics/repositories/zanasonic/.venv/lib/python3.9/site-packages/feature_engine/encoding/one_hot.py:275: PerformanceWarning: DataFrame is highly fragmented.  This is usually the result of calling `frame.insert` many times, which has poor performance.  Consider using pd.concat instead.  To get a de-fragmented frame, use `newframe = frame.copy()`\n",
      "  X[str(feature) + \"_\" + str(category)] = np.where(\n"
     ]
    },
    {
     "name": "stdout",
     "output_type": "stream",
     "text": [
      "test mse: 4300116556\n",
      "test rmse: 65575\n",
      "test r2: 0.4586521460209044\n",
      "\n",
      "Average house price:  110000\n"
     ]
    }
   ],
   "source": [
    "# make predictions for test set\n",
    "pred = model_pipeline.predict(X_test)\n",
    "\n",
    "# determine mse, rmse and r2\n",
    "print('test mse: {}'.format(int(\n",
    "    mean_squared_error(y_test, pred))))\n",
    "print('test rmse: {}'.format(int(\n",
    "    mean_squared_error(y_test, pred, squared=False))))\n",
    "print('test r2: {}'.format(\n",
    "    r2_score(y_test, pred)))\n",
    "print()\n",
    "\n",
    "print('Average house price: ', int(y_train.median()))"
   ]
  },
  {
   "cell_type": "code",
   "execution_count": 43,
   "id": "13df5244",
   "metadata": {},
   "outputs": [
    {
     "name": "stderr",
     "output_type": "stream",
     "text": [
      "/Users/chris/github/zanalytics/repositories/zanasonic/.venv/lib/python3.9/site-packages/feature_engine/encoding/one_hot.py:275: PerformanceWarning: DataFrame is highly fragmented.  This is usually the result of calling `frame.insert` many times, which has poor performance.  Consider using pd.concat instead.  To get a de-fragmented frame, use `newframe = frame.copy()`\n",
      "  X[str(feature) + \"_\" + str(category)] = np.where(\n"
     ]
    },
    {
     "data": {
      "text/plain": [
       "Text(0.5, 1.0, 'Evaluation of Random Forest Predictions')"
      ]
     },
     "execution_count": 43,
     "metadata": {},
     "output_type": "execute_result"
    },
    {
     "data": {
      "image/png": "[encoded data removed]",
      "text/plain": [
       "<Figure size 432x288 with 1 Axes>"
      ]
     },
     "metadata": {
      "needs_background": "light"
     },
     "output_type": "display_data"
    }
   ],
   "source": [
    "# let's evaluate our predictions respect to the real sale price\n",
    "plt.scatter(y_test, model_pipeline.predict(X_test))\n",
    "plt.xlabel('True House Price')\n",
    "plt.ylabel('Predicted House Price')\n",
    "plt.title('Evaluation of Random Forest Predictions')"
   ]
  },
  {
   "cell_type": "code",
   "execution_count": null,
   "id": "82707b91",
   "metadata": {},
   "outputs": [],
   "source": []
  }
 ],
 "metadata": {
  "kernelspec": {
   "display_name": "Python 3 (ipykernel)",
   "language": "python",
   "name": "python3"
  },
  "language_info": {
   "codemirror_mode": {
    "name": "ipython",
    "version": 3
   },
   "file_extension": ".py",
   "mimetype": "text/x-python",
   "name": "python",
   "nbconvert_exporter": "python",
   "pygments_lexer": "ipython3",
   "version": "3.9.4"
  }
 },
 "nbformat": 4,
 "nbformat_minor": 5
}
