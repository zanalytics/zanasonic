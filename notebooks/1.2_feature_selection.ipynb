{
 "cells": [
  {
   "cell_type": "code",
   "execution_count": 3,
   "id": "ac5cf62c",
   "metadata": {},
   "outputs": [],
   "source": [
    "# data manipulation and plotting\n",
    "import pandas as pd\n",
    "import numpy as np\n",
    "import matplotlib.pyplot as plt\n",
    "import logging \n",
    "\n",
    "# for saving the pipeline\n",
    "import joblib\n",
    "\n",
    "# from Scikit-learn\n",
    "from sklearn.model_selection import train_test_split\n",
    "from sklearn.pipeline import Pipeline, FeatureUnion\n",
    "from sklearn.linear_model import Lasso\n",
    "from sklearn.ensemble import RandomForestRegressor\n",
    "from sklearn.preprocessing import MinMaxScaler\n",
    "from sklearn.metrics import mean_squared_error, r2_score\n",
    "from sklearn.feature_selection import SelectKBest\n",
    "from sklearn.feature_selection import f_regression\n",
    "\n",
    "# from feature-engine\n",
    "from feature_engine.imputation import (\n",
    "    AddMissingIndicator,\n",
    "    MeanMedianImputer,\n",
    "    CategoricalImputer,\n",
    ")\n",
    "\n",
    "from feature_engine.encoding import (\n",
    "    RareLabelEncoder,\n",
    "    OrdinalEncoder,\n",
    "    OneHotEncoder\n",
    ")\n",
    "\n",
    "from feature_engine.transformation import (\n",
    "    LogTransformer,\n",
    "    YeoJohnsonTransformer,\n",
    ")\n",
    "\n",
    "from feature_engine.selection import DropFeatures\n",
    "from feature_engine.wrappers import SklearnTransformerWrapper\n",
    "\n",
    "# to visualise al the columns in the dataframe\n",
    "pd.pandas.set_option('display.max_columns', None)\n",
    "\n",
    "# to display all the columns of the dataframe in the notebook\n",
    "pd.pandas.set_option('display.max_columns', None)\n",
    "pd.options.display.max_columns = None\n",
    "pd.options.display.max_rows = None\n",
    "\n",
    "logging.basicConfig(level=logging.INFO, format='%(asctime)s:%(levelname)s:%(message)s')"
   ]
  },
  {
   "cell_type": "markdown",
   "id": "46b35c5e",
   "metadata": {},
   "source": [
    "# Config"
   ]
  },
  {
   "cell_type": "code",
   "execution_count": 1,
   "id": "7ec76263",
   "metadata": {},
   "outputs": [],
   "source": [
    "# columns to read\n",
    "\n",
    "RANDOM_SEED = 42\n",
    "\n",
    "\n",
    "# # categorical variables with NA in train set\n",
    "# CATEGORICAL_VARS_WITH_NA_FREQUENT = []\n",
    "\n",
    "\n",
    "# CATEGORICAL_VARS_WITH_NA_MISSING = []\n",
    "\n",
    "\n",
    "# # numerical variables with NA in train set\n",
    "# NUMERICAL_VARS_WITH_NA = []\n",
    "\n",
    "\n",
    "# TEMPORAL_VARS = []\n",
    "\n",
    "\n",
    "# # variables to log transform\n",
    "# NUMERICALS_LOG_VARS = []\n",
    "\n",
    "\n",
    "# onehot encode\n",
    "ONE_HOT_VARS = ['type']\n",
    "\n",
    "# categorical variables to encode\n",
    "CATEGORICAL_VARS = [\n",
    "            'district',\n",
    "            'constituency',\n",
    "            'postcode_district',]\n",
    "\n",
    "\n",
    "FEATURES = ['district',\n",
    "            'constituency',\n",
    "            'postcode_district',\n",
    "            'average_income',\n",
    "            'type',\n",
    "            'year',\n",
    "           'price']\n",
    "\n",
    "DROP_VARS = []"
   ]
  },
  {
   "cell_type": "code",
   "execution_count": null,
   "id": "562928af",
   "metadata": {},
   "outputs": [],
   "source": [
    "DROP_VARS.remove('price')"
   ]
  },
  {
   "cell_type": "code",
   "execution_count": null,
   "id": "49bd93d1",
   "metadata": {},
   "outputs": [],
   "source": [
    "DROP_VARS"
   ]
  },
  {
   "cell_type": "code",
   "execution_count": null,
   "id": "9e75c7f1",
   "metadata": {},
   "outputs": [],
   "source": [
    "X_test"
   ]
  },
  {
   "cell_type": "code",
   "execution_count": null,
   "id": "b88e00db",
   "metadata": {},
   "outputs": [],
   "source": [
    "import yaml\n",
    "\n",
    "dct_str = {'features': FEATURES }\n",
    "print(yaml.dump(dct_str))"
   ]
  },
  {
   "cell_type": "code",
   "execution_count": 4,
   "id": "75c30237",
   "metadata": {},
   "outputs": [
    {
     "name": "stdout",
     "output_type": "stream",
     "text": [
      "(380989, 7)\n"
     ]
    },
    {
     "data": {
      "text/html": [
       "<div>\n",
       "<style scoped>\n",
       "    .dataframe tbody tr th:only-of-type {\n",
       "        vertical-align: middle;\n",
       "    }\n",
       "\n",
       "    .dataframe tbody tr th {\n",
       "        vertical-align: top;\n",
       "    }\n",
       "\n",
       "    .dataframe thead th {\n",
       "        text-align: right;\n",
       "    }\n",
       "</style>\n",
       "<table border=\"1\" class=\"dataframe\">\n",
       "  <thead>\n",
       "    <tr style=\"text-align: right;\">\n",
       "      <th></th>\n",
       "      <th>price</th>\n",
       "      <th>type</th>\n",
       "      <th>district</th>\n",
       "      <th>constituency</th>\n",
       "      <th>postcode_district</th>\n",
       "      <th>average_income</th>\n",
       "      <th>year</th>\n",
       "    </tr>\n",
       "  </thead>\n",
       "  <tbody>\n",
       "    <tr>\n",
       "      <th>0</th>\n",
       "      <td>53000</td>\n",
       "      <td>D</td>\n",
       "      <td>Broxtowe</td>\n",
       "      <td>Ashfield</td>\n",
       "      <td>NG16</td>\n",
       "      <td>39600.0</td>\n",
       "      <td>1995</td>\n",
       "    </tr>\n",
       "    <tr>\n",
       "      <th>1</th>\n",
       "      <td>28000</td>\n",
       "      <td>T</td>\n",
       "      <td>Nottingham</td>\n",
       "      <td>Nottingham North</td>\n",
       "      <td>NG8</td>\n",
       "      <td>25000.0</td>\n",
       "      <td>1995</td>\n",
       "    </tr>\n",
       "    <tr>\n",
       "      <th>2</th>\n",
       "      <td>67000</td>\n",
       "      <td>D</td>\n",
       "      <td>Newark and Sherwood</td>\n",
       "      <td>Newark</td>\n",
       "      <td>NG23</td>\n",
       "      <td>47800.0</td>\n",
       "      <td>1995</td>\n",
       "    </tr>\n",
       "    <tr>\n",
       "      <th>3</th>\n",
       "      <td>33500</td>\n",
       "      <td>S</td>\n",
       "      <td>Nottingham</td>\n",
       "      <td>Nottingham North</td>\n",
       "      <td>NG8</td>\n",
       "      <td>31900.0</td>\n",
       "      <td>1995</td>\n",
       "    </tr>\n",
       "    <tr>\n",
       "      <th>4</th>\n",
       "      <td>45000</td>\n",
       "      <td>S</td>\n",
       "      <td>Mansfield</td>\n",
       "      <td>Mansfield</td>\n",
       "      <td>NG19</td>\n",
       "      <td>38300.0</td>\n",
       "      <td>1995</td>\n",
       "    </tr>\n",
       "  </tbody>\n",
       "</table>\n",
       "</div>"
      ],
      "text/plain": [
       "   price type             district      constituency postcode_district  \\\n",
       "0  53000    D             Broxtowe          Ashfield              NG16   \n",
       "1  28000    T           Nottingham  Nottingham North               NG8   \n",
       "2  67000    D  Newark and Sherwood            Newark              NG23   \n",
       "3  33500    S           Nottingham  Nottingham North               NG8   \n",
       "4  45000    S            Mansfield         Mansfield              NG19   \n",
       "\n",
       "   average_income  year  \n",
       "0         39600.0  1995  \n",
       "1         25000.0  1995  \n",
       "2         47800.0  1995  \n",
       "3         31900.0  1995  \n",
       "4         38300.0  1995  "
      ]
     },
     "execution_count": 4,
     "metadata": {},
     "output_type": "execute_result"
    }
   ],
   "source": [
    "# load dataset\n",
    "data = pd.read_csv('../zanasonic/datasets/processed/pp_nottinghamshire.csv', usecols=FEATURES)\n",
    "\n",
    "# rows and columns of the data\n",
    "print(data.shape)\n",
    "\n",
    "# visualise the dataset\n",
    "data.head()"
   ]
  },
  {
   "cell_type": "code",
   "execution_count": 6,
   "id": "4b415c8c",
   "metadata": {},
   "outputs": [
    {
     "name": "stderr",
     "output_type": "stream",
     "text": [
      "2021-07-17 21:20:51,556:INFO:Training shape: (285741, 7)\n",
      "2021-07-17 21:20:51,557:INFO:Test shape: (95248, 7)\n"
     ]
    }
   ],
   "source": [
    "\n",
    "# Split the data - train, validation and test\n",
    "train_set, test_set = train_test_split(data,\n",
    "                                       test_size=0.25,\n",
    "                                       random_state=RANDOM_SEED)\n",
    "\n",
    "# test_set, validation_set = train_test_split(test_set,\n",
    "#                                             test_size=0.20,\n",
    "#                                             random_state=RANDOM_SEED)\n",
    "\n",
    "# # load the pre-selected features\n",
    "# # ==============================\n",
    "\n",
    "X_train = train_set.drop('price', axis = 1)\n",
    "X_test = test_set.drop('price', axis = 1)\n",
    "\n",
    "y_train = train_set['price']\n",
    "y_test = test_set['price']\n",
    "\n",
    "logging.info(f\"Training shape: {train_set.shape}\")\n",
    "# logging.info(f\"Validation shape: {validation_set.shape}\")\n",
    "logging.info(f\"Test shape: {test_set.shape}\")\n",
    "\n",
    "# Save the split files\n",
    "# train_set.to_csv(\"../data/processed/train.csv\", index=False)\n",
    "# validation_set.to_csv(\"../data/processed/validation.csv\", index=False)\n",
    "# test_set.to_csv(\"../data/processed/test.csv\", index=False)"
   ]
  },
  {
   "cell_type": "code",
   "execution_count": 8,
   "id": "27e61fcf",
   "metadata": {},
   "outputs": [],
   "source": [
    "# set up the pipeline\n",
    "transform_pipeline = Pipeline([\n",
    "\n",
    "    # ==== VARIABLE TRANSFORMATION =====\n",
    "    #('log', LogTransformer(variables=NUMERICALS_LOG_VARS)),\n",
    "    \n",
    "    ('one_hot_encode', OneHotEncoder(top_categories=None, variables=ONE_HOT_VARS, drop_last=True)),\n",
    "\n",
    "    # == CATEGORICAL ENCODING\n",
    "    ('rare_label_encoder', RareLabelEncoder(\n",
    "        tol=0.01, n_categories=3, variables=CATEGORICAL_VARS\n",
    "    )),\n",
    "\n",
    "    # encode categorical and discrete variables using the target mean\n",
    "    ('categorical_encoder', OrdinalEncoder(\n",
    "         encoding_method='ordered', variables=CATEGORICAL_VARS)),\n",
    "     ('scaler', MinMaxScaler()),\n",
    "     ('model', RandomForestRegressor())\n",
    "    \n",
    "])"
   ]
  },
  {
   "cell_type": "code",
   "execution_count": null,
   "id": "924f55a7",
   "metadata": {},
   "outputs": [],
   "source": [
    "DROP_VARS"
   ]
  },
  {
   "cell_type": "code",
   "execution_count": 9,
   "id": "f93f432a",
   "metadata": {},
   "outputs": [
    {
     "data": {
      "text/plain": [
       "Pipeline(steps=[('one_hot_encode',\n",
       "                 OneHotEncoder(drop_last=True, variables=['type'])),\n",
       "                ('rare_label_encoder',\n",
       "                 RareLabelEncoder(n_categories=3, tol=0.01,\n",
       "                                  variables=['district', 'constituency',\n",
       "                                             'postcode_district'])),\n",
       "                ('categorical_encoder',\n",
       "                 OrdinalEncoder(variables=['district', 'constituency',\n",
       "                                           'postcode_district'])),\n",
       "                ('scaler', MinMaxScaler()),\n",
       "                ('model', RandomForestRegressor())])"
      ]
     },
     "execution_count": 9,
     "metadata": {},
     "output_type": "execute_result"
    }
   ],
   "source": [
    "transform_pipeline.fit(X_train, y_train)"
   ]
  },
  {
   "cell_type": "code",
   "execution_count": null,
   "id": "94fdbc73",
   "metadata": {},
   "outputs": [],
   "source": [
    "X_train.columns"
   ]
  },
  {
   "cell_type": "code",
   "execution_count": null,
   "id": "8dae6c5b",
   "metadata": {},
   "outputs": [],
   "source": [
    "X_train = transform_pipeline.transform(X_train)\n",
    "X_test = transform_pipeline.transform(X_test)"
   ]
  },
  {
   "cell_type": "code",
   "execution_count": null,
   "id": "ba55415a",
   "metadata": {},
   "outputs": [],
   "source": [
    "X_train.shape"
   ]
  },
  {
   "cell_type": "code",
   "execution_count": null,
   "id": "767f5f3b",
   "metadata": {},
   "outputs": [],
   "source": []
  },
  {
   "cell_type": "code",
   "execution_count": 10,
   "id": "b1b0bc14",
   "metadata": {},
   "outputs": [
    {
     "name": "stdout",
     "output_type": "stream",
     "text": [
      "train mse: 1979912832\n",
      "train rmse: 44496\n",
      "train r2: 0.7487038046423148\n",
      "\n"
     ]
    }
   ],
   "source": [
    "# evaluate the model:\n",
    "# ====================\n",
    "\n",
    "# make predictions for train set\n",
    "pred = transform_pipeline.predict(X_train)\n",
    "\n",
    "\n",
    "# determine mse, rmse and r2\n",
    "print('train mse: {}'.format(int(\n",
    "    mean_squared_error(y_train, pred))))\n",
    "print('train rmse: {}'.format(int(\n",
    "    mean_squared_error(y_train, pred, squared=False))))\n",
    "print('train r2: {}'.format(\n",
    "    r2_score(y_train, pred)))\n",
    "print()\n",
    "\n"
   ]
  },
  {
   "cell_type": "code",
   "execution_count": 11,
   "id": "d4115b26",
   "metadata": {},
   "outputs": [
    {
     "name": "stdout",
     "output_type": "stream",
     "text": [
      "test mse: 2300856678\n",
      "test rmse: 47967\n",
      "test r2: 0.7108408091626419\n",
      "\n",
      "Average house price:  110000\n"
     ]
    }
   ],
   "source": [
    "# make predictions for test set\n",
    "pred = transform_pipeline.predict(X_test)\n",
    "\n",
    "# determine mse, rmse and r2\n",
    "print('test mse: {}'.format(int(\n",
    "    mean_squared_error(y_test, pred))))\n",
    "print('test rmse: {}'.format(int(\n",
    "    mean_squared_error(y_test, pred, squared=False))))\n",
    "print('test r2: {}'.format(\n",
    "    r2_score(y_test, pred)))\n",
    "print()\n",
    "\n",
    "print('Average house price: ', int(y_train.median()))"
   ]
  },
  {
   "cell_type": "code",
   "execution_count": null,
   "id": "a2a5b2a8",
   "metadata": {},
   "outputs": [],
   "source": [
    "feature_importance = transform_pipeline.named_steps['model'].feature_importances_"
   ]
  },
  {
   "cell_type": "code",
   "execution_count": null,
   "id": "5e4ab3b5",
   "metadata": {},
   "outputs": [],
   "source": [
    "feature_importance.shape"
   ]
  },
  {
   "cell_type": "code",
   "execution_count": null,
   "id": "c62cd6ff",
   "metadata": {},
   "outputs": [],
   "source": [
    "X_train.shape"
   ]
  },
  {
   "cell_type": "code",
   "execution_count": null,
   "id": "5d739ac5",
   "metadata": {},
   "outputs": [],
   "source": [
    "# what are scores for the features\n",
    "features = X_train.columns\n",
    "scores = list(feature_importance)\n",
    "\n",
    "feature_column = []\n",
    "feature_score = []\n",
    "for i in range(len(scores)):\n",
    "    feature_column.append(features[i])\n",
    "    feature_score.append(scores[i])\n",
    "df_feature = pd.DataFrame({'score': feature_score}, index=feature_column)"
   ]
  },
  {
   "cell_type": "code",
   "execution_count": null,
   "id": "d43529ce",
   "metadata": {},
   "outputs": [],
   "source": [
    "df_feature.sort_values(by='score', ascending=False)"
   ]
  },
  {
   "cell_type": "code",
   "execution_count": null,
   "id": "44870f69",
   "metadata": {},
   "outputs": [],
   "source": [
    "sorted(zip(feature_importance, features), reverse=True)"
   ]
  },
  {
   "cell_type": "code",
   "execution_count": null,
   "id": "4ff9d1f3",
   "metadata": {},
   "outputs": [],
   "source": [
    "transform_pipeline_2.fit(X_train, y_train)"
   ]
  },
  {
   "cell_type": "code",
   "execution_count": null,
   "id": "39db715e",
   "metadata": {},
   "outputs": [],
   "source": [
    "scores = list(transform_pipeline.named_steps['selector'].scores_)\n"
   ]
  },
  {
   "cell_type": "code",
   "execution_count": null,
   "id": "03967090",
   "metadata": {},
   "outputs": [],
   "source": [
    "scores_2 = list(transform_pipeline_2.named_steps['selector'].scores_)"
   ]
  },
  {
   "cell_type": "code",
   "execution_count": null,
   "id": "ab2a5e67",
   "metadata": {},
   "outputs": [],
   "source": [
    "X_train.columns[transform_pipeline.named_steps['selector'].get_support()].to_list()"
   ]
  },
  {
   "cell_type": "code",
   "execution_count": null,
   "id": "d4842f8a",
   "metadata": {},
   "outputs": [],
   "source": [
    "# what are scores for the features\n",
    "features = X_train.columns\n",
    "feature_column = []\n",
    "feature_score = []\n",
    "for i in range(len(scores)):\n",
    "    feature_column.append(features[i])\n",
    "    feature_score.append(scores[i])\n",
    "df_feature = pd.DataFrame({'score': feature_score}, index=feature_column)"
   ]
  },
  {
   "cell_type": "code",
   "execution_count": null,
   "id": "7f0ce6ef",
   "metadata": {},
   "outputs": [],
   "source": [
    "df_feature.sort_values(by='score')"
   ]
  },
  {
   "cell_type": "code",
   "execution_count": null,
   "id": "a76c6a76",
   "metadata": {},
   "outputs": [],
   "source": [
    "X_train_2 = transform_pipeline_2.transform(X_train)\n",
    "X_test_2 = transform_pipeline_2.transform(X_test)\n",
    "\n",
    "# create scaler\n",
    "scaler = MinMaxScaler()\n",
    "\n",
    "#  fit  the scaler to the train set\n",
    "scaler.fit(X_train_2)\n",
    "\n",
    "# transform the train and test set\n",
    "\n",
    "# sklearn returns numpy arrays, so we wrap the\n",
    "# array with a pandas dataframe\n",
    "\n",
    "X_train = pd.DataFrame(\n",
    "    scaler.transform(X_train_2),\n",
    "    columns=X_train.columns\n",
    ")\n",
    "\n",
    "X_test = pd.DataFrame(\n",
    "    scaler.transform(X_test_2),\n",
    "    columns=X_train.columns\n",
    ")"
   ]
  },
  {
   "cell_type": "code",
   "execution_count": null,
   "id": "56bc0766",
   "metadata": {},
   "outputs": [],
   "source": [
    "X_train.head()"
   ]
  },
  {
   "cell_type": "code",
   "execution_count": null,
   "id": "8c5c1488",
   "metadata": {},
   "outputs": [],
   "source": [
    "from sklearn.feature_selection import SelectKBest\n",
    "from sklearn.feature_selection import f_regression\n",
    "from matplotlib import pyplot as plt\n",
    "\n",
    "\n",
    "# # feature selection\n",
    "def select_features(X_train, y_train):\n",
    "    # configure to select all features\n",
    "    fs = SelectKBest(score_func=f_regression, k=7)\n",
    "    # learn relationship from training data\n",
    "    fs.fit(X_train, y_train)\n",
    "    # transform train input data\n",
    "#     X_train_fs = fs.transform(X_train)\n",
    "    # transform test input data\n",
    "#     X_test_fs = fs.transform(X_test)\n",
    "    return fs\n",
    "\n",
    "# features = list(X_train)\n",
    "fs = select_features(X_train, y_train)\n",
    "\n",
    "selected_features = X_train.columns[fs.get_support()].to_list()\n",
    "\n",
    "\n",
    "scores_2 = list(fs.scores_)\n",
    "\n",
    "\n",
    "# what are scores for the features\n",
    "features = list(X_train.columns)\n",
    "feature_column_2 = []\n",
    "feature_score_2 = []\n",
    "for i in range(len(scores_2)):\n",
    "    feature_column.append(features[i])\n",
    "    feature_score.append(scores_2[i])\n",
    "df_feature_2 = pd.DataFrame({'score': feature_score_2}, index=feature_column_2)\n",
    "df_feature_2\n",
    "# import yaml\n",
    "\n",
    "# dct_str = {'features': selected_features }\n",
    "# print(dct_str)\n",
    "# stream = open(\"../data/processed/features.yaml\", \"w\")\n",
    "# yaml.dump(dct_str, stream)\n",
    "\n",
    "\n",
    "# # feature selection\n",
    "# X_train_fs, X_test_fs, fs = select_features(X_train, y_train, X_test)\n",
    "# new_features = X_train.columns[fs.get_support()]\n",
    "# df_feature = pd.DataFrame({'feature': new_features})\n",
    "# df_feature.to_csv(\"../data/processed/selected_features.csv\", index=False)\n",
    "\n",
    "# what are scores for the features\n",
    "# feature_column = []\n",
    "# feature_score = []\n",
    "# for i in range(len(fs.scores_)):\n",
    "#     feature_column.append(features[i])\n",
    "#     feature_score.append(fs.scores_[i])\n",
    "# df_feature = pd.DataFrame({'score': feature_score}, index=feature_column)\n",
    "# df_feature[['score']] = df_feature[['score']].apply(pd.to_numeric)\n",
    "# df_feature = df_feature.sort_values(by='score')\n",
    "# df_feature[df_feature['score'] > 3000].plot(kind='bar')\n",
    "# plt.tight_layout()\n",
    "# plt.show()\n",
    "# plt.savefig('./reports/figures/feature_importance.png')\n",
    "# df = df_feature[df_feature['score'] > 3000]\n",
    "# df.index.names = ['feature']\n",
    "# df.to_csv(\"./data/processed/selected_features.csv\", index=True)"
   ]
  },
  {
   "cell_type": "code",
   "execution_count": null,
   "id": "ac2710b2",
   "metadata": {},
   "outputs": [],
   "source": [
    "# what are scores for the features\n",
    "features = list(X_train.columns)\n",
    "feature_column_2 = []\n",
    "feature_score_2 = []\n",
    "for i in range(len(scores_2)):\n",
    "    feature_column_2.append(features[i])\n",
    "    feature_score_2.append(scores_2[i])\n",
    "df_feature_2 = pd.DataFrame({'score': feature_score_2}, index=feature_column_2)\n",
    "df_feature_2"
   ]
  },
  {
   "cell_type": "code",
   "execution_count": null,
   "id": "f123d87e",
   "metadata": {},
   "outputs": [],
   "source": [
    "df_feature_2.sort_values(by='score')"
   ]
  },
  {
   "cell_type": "code",
   "execution_count": null,
   "id": "11c8494f",
   "metadata": {},
   "outputs": [],
   "source": [
    "X_train.columns[fs.get_support()].to_list()"
   ]
  },
  {
   "cell_type": "code",
   "execution_count": null,
   "id": "a1c53d2c",
   "metadata": {},
   "outputs": [],
   "source": [
    "feature_column_2"
   ]
  },
  {
   "cell_type": "code",
   "execution_count": null,
   "id": "2e75c121",
   "metadata": {},
   "outputs": [],
   "source": [
    "X_train.columns"
   ]
  },
  {
   "cell_type": "code",
   "execution_count": null,
   "id": "b7c77b0d",
   "metadata": {},
   "outputs": [],
   "source": [
    "fs.scores_"
   ]
  },
  {
   "cell_type": "code",
   "execution_count": null,
   "id": "a6d2da68",
   "metadata": {},
   "outputs": [],
   "source": [
    "import uuid\n",
    "print (uuid.uuid4())"
   ]
  },
  {
   "cell_type": "code",
   "execution_count": null,
   "id": "bcef34cd",
   "metadata": {},
   "outputs": [],
   "source": [
    "import os\n",
    "\n",
    "## Get input ##\n",
    "myfile= \"../data/processed/features.yaml\"\n",
    "\n",
    "## Try to delete the file ##\n",
    "try:\n",
    "    os.remove(myfile)\n",
    "except OSError as e:  ## if failed, report it back to the user ##\n",
    "    print (\"Error: %s - %s.\" % (e.filename, e.strerror))"
   ]
  }
 ],
 "metadata": {
  "kernelspec": {
   "display_name": "Python 3 (ipykernel)",
   "language": "python",
   "name": "python3"
  },
  "language_info": {
   "codemirror_mode": {
    "name": "ipython",
    "version": 3
   },
   "file_extension": ".py",
   "mimetype": "text/x-python",
   "name": "python",
   "nbconvert_exporter": "python",
   "pygments_lexer": "ipython3",
   "version": "3.9.4"
  }
 },
 "nbformat": 4,
 "nbformat_minor": 5
}
