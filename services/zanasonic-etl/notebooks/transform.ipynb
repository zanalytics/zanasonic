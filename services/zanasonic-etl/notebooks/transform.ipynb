{
 "cells": [
  {
   "cell_type": "code",
   "execution_count": 111,
   "outputs": [],
   "source": [
    "from typing import List, Any, Union\n",
    "import numpy as np\n",
    "import pandas as pd\n",
    "from zanasonic_etl.transform.transform_functions import (\n",
    "    remove_duplicates,\n",
    "    price_paid_process,\n",
    "    drop_columns,\n",
    "    col_to_dates,\n",
    "    mean_column,\n",
    "    adjust_price,\n",
    ")\n",
    "from loguru import logger\n",
    "from scipy import stats\n",
    "\n",
    "from janitor import clean_names\n",
    "pd.set_option(\"display.max_columns\", None)\n",
    "random_seed = 42"
   ],
   "metadata": {
    "collapsed": false,
    "pycharm": {
     "name": "#%%\n"
    }
   }
  },
  {
   "cell_type": "markdown",
   "source": [
    "# Price Paid Data"
   ],
   "metadata": {
    "collapsed": false,
    "pycharm": {
     "name": "#%% md\n"
    }
   }
  },
  {
   "cell_type": "code",
   "execution_count": 2,
   "outputs": [],
   "source": [
    "price_paid_column_names = [\n",
    "    \"id\",\n",
    "    \"price\",\n",
    "    \"date\",\n",
    "    \"postcode\",\n",
    "    \"type\",\n",
    "    \"new_build\",\n",
    "    \"land\",\n",
    "    \"primary_address\",\n",
    "    \"secondary_address\",\n",
    "    \"street\",\n",
    "    \"locality\",\n",
    "    \"town_city\",\n",
    "    \"district\",\n",
    "    \"county\",\n",
    "    \"ppd\",\n",
    "    \"record\",\n",
    "]"
   ],
   "metadata": {
    "collapsed": false,
    "pycharm": {
     "name": "#%%\n"
    }
   }
  },
  {
   "cell_type": "code",
   "execution_count": 3,
   "outputs": [],
   "source": [
    "# Read in price paid data\n",
    "df_price_paid = pd.read_csv(\n",
    "    \"../data/raw/pp_sample.csv\", parse_dates=[\"date\"], names=price_paid_column_names, low_memory=False\n",
    ")\n",
    "\n",
    "# Read in house price index\n",
    "df_house_index = pd.read_csv(\"../data/raw/house_price_index.csv\", low_memory=False)\n",
    "\n",
    "# Read in postcode data\n",
    "df_postcode = pd.read_csv(\"../data/raw/postcodes.csv\", low_memory=False)"
   ],
   "metadata": {
    "collapsed": false,
    "pycharm": {
     "name": "#%%\n"
    }
   }
  },
  {
   "cell_type": "code",
   "execution_count": 119,
   "outputs": [],
   "source": [
    "def set_min_max_price(df: pd.DataFrame, min_price: int=10000, max_price: int=5000000) -> pd.DataFrame:\n",
    "    df = df.loc[(df.price >= min_price) & (df.price <= max_price)]\n",
    "    return df\n",
    "\n",
    "def month_year(df: pd.DataFrame, month_year_column: str):\n",
    "    df[month_year_column] = df.date.dt.to_period(\"M\")\n",
    "    return df\n"
   ],
   "metadata": {
    "collapsed": false,
    "pycharm": {
     "name": "#%%\n"
    }
   }
  },
  {
   "cell_type": "code",
   "execution_count": 120,
   "outputs": [],
   "source": [
    "def price_paid_process(df: pd.DataFrame, min_price: int=10000, max_price: int=5000000) -> pd.DataFrame:\n",
    "    price_paid_df = (\n",
    "        df.pipe(clean_names).\n",
    "        assign(id = df.id.str.strip(\"{}\")).\n",
    "        set_index(\"id\").\n",
    "        sort_values(by=\"date\", ascending=False).\n",
    "        dropna(subset=[\"postcode\"]).\n",
    "        drop_duplicates(subset=price_paid_column_names[1:], keep=\"first\").\n",
    "        pipe(set_min_max_price,min_price=min_price, max_price=max_price).\n",
    "        drop(columns=[\"locality\", \"town_city\", \"district\", \"county\"]).\n",
    "        assign(current_month_year = df.date.dt.to_period(\"M\").max()).\n",
    "        pipe(month_year, month_year_column=\"price_paid_month_year\")\n",
    "     )\n",
    "    return price_paid_df"
   ],
   "metadata": {
    "collapsed": false,
    "pycharm": {
     "name": "#%%\n"
    }
   }
  },
  {
   "cell_type": "code",
   "execution_count": 121,
   "outputs": [],
   "source": [
    "pp_df = price_paid_process(df=df_price_paid)"
   ],
   "metadata": {
    "collapsed": false,
    "pycharm": {
     "name": "#%%\n"
    }
   }
  },
  {
   "cell_type": "code",
   "execution_count": 122,
   "outputs": [
    {
     "data": {
      "text/plain": "                                       price       date  postcode type  \\\nid                                                                       \nDE2D0CDF-F7C8-51EE-E053-6C04A8C00671  850000 2022-04-20    E5 0ET    T   \nDE2D0CDF-AF88-51EE-E053-6C04A8C00671  505000 2022-04-19  WD23 2JH    T   \nDE2D0CE0-5C78-51EE-E053-6C04A8C00671  105050 2022-04-19   DY4 9SG    F   \nDE2D0CDF-DC0B-51EE-E053-6C04A8C00671  562000 2022-04-14  SE18 3HF    S   \nDE2D0CDF-4399-51EE-E053-6C04A8C00671  550000 2022-04-14   N22 7BT    T   \n\n                                     new_build land primary_address  \\\nid                                                                    \nDE2D0CDF-F7C8-51EE-E053-6C04A8C00671         N    F              19   \nDE2D0CDF-AF88-51EE-E053-6C04A8C00671         N    F               1   \nDE2D0CE0-5C78-51EE-E053-6C04A8C00671         N    L              51   \nDE2D0CDF-DC0B-51EE-E053-6C04A8C00671         N    F             150   \nDE2D0CDF-4399-51EE-E053-6C04A8C00671         N    F              46   \n\n                                     secondary_address           street ppd  \\\nid                                                                            \nDE2D0CDF-F7C8-51EE-E053-6C04A8C00671               NaN    RUSHMORE ROAD   A   \nDE2D0CDF-AF88-51EE-E053-6C04A8C00671               NaN     NAPIER DRIVE   A   \nDE2D0CE0-5C78-51EE-E053-6C04A8C00671               NaN  THUNDERBOLT WAY   A   \nDE2D0CDF-DC0B-51EE-E053-6C04A8C00671               NaN        PLUM LANE   A   \nDE2D0CDF-4399-51EE-E053-6C04A8C00671               NaN   LEVERTON CLOSE   A   \n\n                                     record current_month_year  \\\nid                                                               \nDE2D0CDF-F7C8-51EE-E053-6C04A8C00671      A            2022-04   \nDE2D0CDF-AF88-51EE-E053-6C04A8C00671      A            2022-04   \nDE2D0CE0-5C78-51EE-E053-6C04A8C00671      A            2022-04   \nDE2D0CDF-DC0B-51EE-E053-6C04A8C00671      A            2022-04   \nDE2D0CDF-4399-51EE-E053-6C04A8C00671      A            2022-04   \n\n                                     price_paid_month_year  \nid                                                          \nDE2D0CDF-F7C8-51EE-E053-6C04A8C00671               2022-04  \nDE2D0CDF-AF88-51EE-E053-6C04A8C00671               2022-04  \nDE2D0CE0-5C78-51EE-E053-6C04A8C00671               2022-04  \nDE2D0CDF-DC0B-51EE-E053-6C04A8C00671               2022-04  \nDE2D0CDF-4399-51EE-E053-6C04A8C00671               2022-04  ",
      "text/html": "<div>\n<style scoped>\n    .dataframe tbody tr th:only-of-type {\n        vertical-align: middle;\n    }\n\n    .dataframe tbody tr th {\n        vertical-align: top;\n    }\n\n    .dataframe thead th {\n        text-align: right;\n    }\n</style>\n<table border=\"1\" class=\"dataframe\">\n  <thead>\n    <tr style=\"text-align: right;\">\n      <th></th>\n      <th>price</th>\n      <th>date</th>\n      <th>postcode</th>\n      <th>type</th>\n      <th>new_build</th>\n      <th>land</th>\n      <th>primary_address</th>\n      <th>secondary_address</th>\n      <th>street</th>\n      <th>ppd</th>\n      <th>record</th>\n      <th>current_month_year</th>\n      <th>price_paid_month_year</th>\n    </tr>\n    <tr>\n      <th>id</th>\n      <th></th>\n      <th></th>\n      <th></th>\n      <th></th>\n      <th></th>\n      <th></th>\n      <th></th>\n      <th></th>\n      <th></th>\n      <th></th>\n      <th></th>\n      <th></th>\n      <th></th>\n    </tr>\n  </thead>\n  <tbody>\n    <tr>\n      <th>DE2D0CDF-F7C8-51EE-E053-6C04A8C00671</th>\n      <td>850000</td>\n      <td>2022-04-20</td>\n      <td>E5 0ET</td>\n      <td>T</td>\n      <td>N</td>\n      <td>F</td>\n      <td>19</td>\n      <td>NaN</td>\n      <td>RUSHMORE ROAD</td>\n      <td>A</td>\n      <td>A</td>\n      <td>2022-04</td>\n      <td>2022-04</td>\n    </tr>\n    <tr>\n      <th>DE2D0CDF-AF88-51EE-E053-6C04A8C00671</th>\n      <td>505000</td>\n      <td>2022-04-19</td>\n      <td>WD23 2JH</td>\n      <td>T</td>\n      <td>N</td>\n      <td>F</td>\n      <td>1</td>\n      <td>NaN</td>\n      <td>NAPIER DRIVE</td>\n      <td>A</td>\n      <td>A</td>\n      <td>2022-04</td>\n      <td>2022-04</td>\n    </tr>\n    <tr>\n      <th>DE2D0CE0-5C78-51EE-E053-6C04A8C00671</th>\n      <td>105050</td>\n      <td>2022-04-19</td>\n      <td>DY4 9SG</td>\n      <td>F</td>\n      <td>N</td>\n      <td>L</td>\n      <td>51</td>\n      <td>NaN</td>\n      <td>THUNDERBOLT WAY</td>\n      <td>A</td>\n      <td>A</td>\n      <td>2022-04</td>\n      <td>2022-04</td>\n    </tr>\n    <tr>\n      <th>DE2D0CDF-DC0B-51EE-E053-6C04A8C00671</th>\n      <td>562000</td>\n      <td>2022-04-14</td>\n      <td>SE18 3HF</td>\n      <td>S</td>\n      <td>N</td>\n      <td>F</td>\n      <td>150</td>\n      <td>NaN</td>\n      <td>PLUM LANE</td>\n      <td>A</td>\n      <td>A</td>\n      <td>2022-04</td>\n      <td>2022-04</td>\n    </tr>\n    <tr>\n      <th>DE2D0CDF-4399-51EE-E053-6C04A8C00671</th>\n      <td>550000</td>\n      <td>2022-04-14</td>\n      <td>N22 7BT</td>\n      <td>T</td>\n      <td>N</td>\n      <td>F</td>\n      <td>46</td>\n      <td>NaN</td>\n      <td>LEVERTON CLOSE</td>\n      <td>A</td>\n      <td>A</td>\n      <td>2022-04</td>\n      <td>2022-04</td>\n    </tr>\n  </tbody>\n</table>\n</div>"
     },
     "execution_count": 122,
     "metadata": {},
     "output_type": "execute_result"
    }
   ],
   "source": [
    "pp_df.head()"
   ],
   "metadata": {
    "collapsed": false,
    "pycharm": {
     "name": "#%%\n"
    }
   }
  },
  {
   "cell_type": "markdown",
   "source": [
    "# Postcode Data"
   ],
   "metadata": {
    "collapsed": false,
    "pycharm": {
     "name": "#%% md\n"
    }
   }
  },
  {
   "cell_type": "code",
   "execution_count": 141,
   "outputs": [
    {
     "data": {
      "text/plain": "  postcode in_use_   latitude  longitude   easting  northing  grid_ref county  \\\n0  AB1 0AA      No  57.101474  -2.242851  385386.0  801193.0  NJ853011    NaN   \n1  AB1 0AB      No  57.102554  -2.246308  385177.0  801314.0  NJ851013    NaN   \n2  AB1 0AD      No  57.100556  -2.248342  385053.0  801092.0  NJ850010    NaN   \n3  AB1 0AE      No  57.084444  -2.255708  384600.0  799300.0  NO845993    NaN   \n4  AB1 0AF      No  57.096656  -2.258102  384460.0  800660.0  NJ844006    NaN   \n\n        district              ward district_code  ward_code   country  \\\n0  Aberdeen City     Lower Deeside     S12000033  S13002843  Scotland   \n1  Aberdeen City     Lower Deeside     S12000033  S13002843  Scotland   \n2  Aberdeen City     Lower Deeside     S12000033  S13002843  Scotland   \n3  Aberdeenshire  North Kincardine     S12000034  S13002864  Scotland   \n4  Aberdeen City     Lower Deeside     S12000033  S13002843  Scotland   \n\n  county_code                       constituency  introduced  terminated  \\\n0   S99999999                     Aberdeen South  1980-01-01  1996-06-01   \n1   S99999999                     Aberdeen South  1980-01-01  1996-06-01   \n2   S99999999                     Aberdeen South  1980-01-01  1996-06-01   \n3   S99999999  West Aberdeenshire and Kincardine  1994-02-01  1996-06-01   \n4   S99999999                     Aberdeen South  1990-12-01  1992-07-01   \n\n  parish national_park  population  households built_up_area  \\\n0    NaN           NaN         NaN         NaN           NaN   \n1    NaN           NaN         NaN         NaN           NaN   \n2    NaN           NaN         NaN         NaN           NaN   \n3    NaN           NaN         NaN         NaN           NaN   \n4    NaN           NaN         NaN         NaN           NaN   \n\n  built_up_sub_division              lower_layer_super_output_area  \\\n0                   NaN  Cults, Bieldside and Milltimber West - 02   \n1                   NaN  Cults, Bieldside and Milltimber West - 02   \n2                   NaN  Cults, Bieldside and Milltimber West - 02   \n3                   NaN           Dunecht, Durris and Drumoak - 01   \n4                   NaN                                Culter - 06   \n\n             rural_urban    region  altitude  london_zone  lsoa_code  \\\n0  Accessible small town  Scotland      46.0          8.0  S01006514   \n1  Accessible small town  Scotland      61.0          8.0  S01006514   \n2  Accessible small town  Scotland      45.0          8.0  S01006514   \n3  Accessible rural area  Scotland      51.0          8.0  S01006853   \n4  Accessible small town  Scotland      46.0          8.0  S01006511   \n\n  local_authority  msoa_code        middle_layer_super_output_area  \\\n0             NaN  S02001237  Cults, Bieldside and Milltimber West   \n1             NaN  S02001237  Cults, Bieldside and Milltimber West   \n2             NaN  S02001237  Cults, Bieldside and Milltimber West   \n3             NaN  S02001296           Dunecht, Durris and Drumoak   \n4             NaN  S02001236                                Culter   \n\n  parish_code census_output_area constituency_code  \\\n0         NaN          S00090303         S14000002   \n1         NaN          S00090303         S14000002   \n2         NaN          S00090399         S14000002   \n3         NaN          S00091322         S14000058   \n4         NaN          S00090299         S14000002   \n\n   index_of_multiple_deprivation  quality  user_type last_updated  \\\n0                         6715.0      1.0        0.0   2022-05-25   \n1                         6715.0      1.0        0.0   2022-05-25   \n2                         6715.0      1.0        0.0   2022-05-25   \n3                         5069.0      8.0        0.0   2022-05-25   \n4                         6253.0      8.0        1.0   2022-05-25   \n\n  nearest_station  distance_to_station postcode_area postcode_district  \\\n0      Portlethen              8.31408            AB               AB1   \n1      Portlethen              8.55457            AB               AB1   \n2      Portlethen              8.54352            AB               AB1   \n3      Portlethen              8.20809            AB               AB1   \n4      Portlethen              8.85583            AB               AB1   \n\n  police_force   water_company    plus_code  average_income sewage_company  \\\n0     Scotland  Scottish Water  9C9V4Q24+HV             NaN            NaN   \n1     Scotland  Scottish Water  9C9V4Q33+2F             NaN            NaN   \n2     Scotland  Scottish Water  9C9V4Q22+6M             NaN            NaN   \n3     Scotland  Scottish Water  9C9V3PMV+QP             NaN            NaN   \n4     Scotland  Scottish Water  9C9V3PWR+MQ             NaN            NaN   \n\n  travel_to_work_area             itl_level_2  \\\n0            Aberdeen  North Eastern Scotland   \n1            Aberdeen  North Eastern Scotland   \n2            Aberdeen  North Eastern Scotland   \n3            Aberdeen  North Eastern Scotland   \n4            Aberdeen  North Eastern Scotland   \n\n                       itl_level_3 uprns  distance_to_sea  \n0  Aberdeen City and Aberdeenshire   NaN          9.87661  \n1  Aberdeen City and Aberdeenshire   NaN         10.11510  \n2  Aberdeen City and Aberdeenshire   NaN         10.14760  \n3  Aberdeen City and Aberdeenshire   NaN          9.39683  \n4  Aberdeen City and Aberdeenshire   NaN         10.56160  ",
      "text/html": "<div>\n<style scoped>\n    .dataframe tbody tr th:only-of-type {\n        vertical-align: middle;\n    }\n\n    .dataframe tbody tr th {\n        vertical-align: top;\n    }\n\n    .dataframe thead th {\n        text-align: right;\n    }\n</style>\n<table border=\"1\" class=\"dataframe\">\n  <thead>\n    <tr style=\"text-align: right;\">\n      <th></th>\n      <th>postcode</th>\n      <th>in_use_</th>\n      <th>latitude</th>\n      <th>longitude</th>\n      <th>easting</th>\n      <th>northing</th>\n      <th>grid_ref</th>\n      <th>county</th>\n      <th>district</th>\n      <th>ward</th>\n      <th>district_code</th>\n      <th>ward_code</th>\n      <th>country</th>\n      <th>county_code</th>\n      <th>constituency</th>\n      <th>introduced</th>\n      <th>terminated</th>\n      <th>parish</th>\n      <th>national_park</th>\n      <th>population</th>\n      <th>households</th>\n      <th>built_up_area</th>\n      <th>built_up_sub_division</th>\n      <th>lower_layer_super_output_area</th>\n      <th>rural_urban</th>\n      <th>region</th>\n      <th>altitude</th>\n      <th>london_zone</th>\n      <th>lsoa_code</th>\n      <th>local_authority</th>\n      <th>msoa_code</th>\n      <th>middle_layer_super_output_area</th>\n      <th>parish_code</th>\n      <th>census_output_area</th>\n      <th>constituency_code</th>\n      <th>index_of_multiple_deprivation</th>\n      <th>quality</th>\n      <th>user_type</th>\n      <th>last_updated</th>\n      <th>nearest_station</th>\n      <th>distance_to_station</th>\n      <th>postcode_area</th>\n      <th>postcode_district</th>\n      <th>police_force</th>\n      <th>water_company</th>\n      <th>plus_code</th>\n      <th>average_income</th>\n      <th>sewage_company</th>\n      <th>travel_to_work_area</th>\n      <th>itl_level_2</th>\n      <th>itl_level_3</th>\n      <th>uprns</th>\n      <th>distance_to_sea</th>\n    </tr>\n  </thead>\n  <tbody>\n    <tr>\n      <th>0</th>\n      <td>AB1 0AA</td>\n      <td>No</td>\n      <td>57.101474</td>\n      <td>-2.242851</td>\n      <td>385386.0</td>\n      <td>801193.0</td>\n      <td>NJ853011</td>\n      <td>NaN</td>\n      <td>Aberdeen City</td>\n      <td>Lower Deeside</td>\n      <td>S12000033</td>\n      <td>S13002843</td>\n      <td>Scotland</td>\n      <td>S99999999</td>\n      <td>Aberdeen South</td>\n      <td>1980-01-01</td>\n      <td>1996-06-01</td>\n      <td>NaN</td>\n      <td>NaN</td>\n      <td>NaN</td>\n      <td>NaN</td>\n      <td>NaN</td>\n      <td>NaN</td>\n      <td>Cults, Bieldside and Milltimber West - 02</td>\n      <td>Accessible small town</td>\n      <td>Scotland</td>\n      <td>46.0</td>\n      <td>8.0</td>\n      <td>S01006514</td>\n      <td>NaN</td>\n      <td>S02001237</td>\n      <td>Cults, Bieldside and Milltimber West</td>\n      <td>NaN</td>\n      <td>S00090303</td>\n      <td>S14000002</td>\n      <td>6715.0</td>\n      <td>1.0</td>\n      <td>0.0</td>\n      <td>2022-05-25</td>\n      <td>Portlethen</td>\n      <td>8.31408</td>\n      <td>AB</td>\n      <td>AB1</td>\n      <td>Scotland</td>\n      <td>Scottish Water</td>\n      <td>9C9V4Q24+HV</td>\n      <td>NaN</td>\n      <td>NaN</td>\n      <td>Aberdeen</td>\n      <td>North Eastern Scotland</td>\n      <td>Aberdeen City and Aberdeenshire</td>\n      <td>NaN</td>\n      <td>9.87661</td>\n    </tr>\n    <tr>\n      <th>1</th>\n      <td>AB1 0AB</td>\n      <td>No</td>\n      <td>57.102554</td>\n      <td>-2.246308</td>\n      <td>385177.0</td>\n      <td>801314.0</td>\n      <td>NJ851013</td>\n      <td>NaN</td>\n      <td>Aberdeen City</td>\n      <td>Lower Deeside</td>\n      <td>S12000033</td>\n      <td>S13002843</td>\n      <td>Scotland</td>\n      <td>S99999999</td>\n      <td>Aberdeen South</td>\n      <td>1980-01-01</td>\n      <td>1996-06-01</td>\n      <td>NaN</td>\n      <td>NaN</td>\n      <td>NaN</td>\n      <td>NaN</td>\n      <td>NaN</td>\n      <td>NaN</td>\n      <td>Cults, Bieldside and Milltimber West - 02</td>\n      <td>Accessible small town</td>\n      <td>Scotland</td>\n      <td>61.0</td>\n      <td>8.0</td>\n      <td>S01006514</td>\n      <td>NaN</td>\n      <td>S02001237</td>\n      <td>Cults, Bieldside and Milltimber West</td>\n      <td>NaN</td>\n      <td>S00090303</td>\n      <td>S14000002</td>\n      <td>6715.0</td>\n      <td>1.0</td>\n      <td>0.0</td>\n      <td>2022-05-25</td>\n      <td>Portlethen</td>\n      <td>8.55457</td>\n      <td>AB</td>\n      <td>AB1</td>\n      <td>Scotland</td>\n      <td>Scottish Water</td>\n      <td>9C9V4Q33+2F</td>\n      <td>NaN</td>\n      <td>NaN</td>\n      <td>Aberdeen</td>\n      <td>North Eastern Scotland</td>\n      <td>Aberdeen City and Aberdeenshire</td>\n      <td>NaN</td>\n      <td>10.11510</td>\n    </tr>\n    <tr>\n      <th>2</th>\n      <td>AB1 0AD</td>\n      <td>No</td>\n      <td>57.100556</td>\n      <td>-2.248342</td>\n      <td>385053.0</td>\n      <td>801092.0</td>\n      <td>NJ850010</td>\n      <td>NaN</td>\n      <td>Aberdeen City</td>\n      <td>Lower Deeside</td>\n      <td>S12000033</td>\n      <td>S13002843</td>\n      <td>Scotland</td>\n      <td>S99999999</td>\n      <td>Aberdeen South</td>\n      <td>1980-01-01</td>\n      <td>1996-06-01</td>\n      <td>NaN</td>\n      <td>NaN</td>\n      <td>NaN</td>\n      <td>NaN</td>\n      <td>NaN</td>\n      <td>NaN</td>\n      <td>Cults, Bieldside and Milltimber West - 02</td>\n      <td>Accessible small town</td>\n      <td>Scotland</td>\n      <td>45.0</td>\n      <td>8.0</td>\n      <td>S01006514</td>\n      <td>NaN</td>\n      <td>S02001237</td>\n      <td>Cults, Bieldside and Milltimber West</td>\n      <td>NaN</td>\n      <td>S00090399</td>\n      <td>S14000002</td>\n      <td>6715.0</td>\n      <td>1.0</td>\n      <td>0.0</td>\n      <td>2022-05-25</td>\n      <td>Portlethen</td>\n      <td>8.54352</td>\n      <td>AB</td>\n      <td>AB1</td>\n      <td>Scotland</td>\n      <td>Scottish Water</td>\n      <td>9C9V4Q22+6M</td>\n      <td>NaN</td>\n      <td>NaN</td>\n      <td>Aberdeen</td>\n      <td>North Eastern Scotland</td>\n      <td>Aberdeen City and Aberdeenshire</td>\n      <td>NaN</td>\n      <td>10.14760</td>\n    </tr>\n    <tr>\n      <th>3</th>\n      <td>AB1 0AE</td>\n      <td>No</td>\n      <td>57.084444</td>\n      <td>-2.255708</td>\n      <td>384600.0</td>\n      <td>799300.0</td>\n      <td>NO845993</td>\n      <td>NaN</td>\n      <td>Aberdeenshire</td>\n      <td>North Kincardine</td>\n      <td>S12000034</td>\n      <td>S13002864</td>\n      <td>Scotland</td>\n      <td>S99999999</td>\n      <td>West Aberdeenshire and Kincardine</td>\n      <td>1994-02-01</td>\n      <td>1996-06-01</td>\n      <td>NaN</td>\n      <td>NaN</td>\n      <td>NaN</td>\n      <td>NaN</td>\n      <td>NaN</td>\n      <td>NaN</td>\n      <td>Dunecht, Durris and Drumoak - 01</td>\n      <td>Accessible rural area</td>\n      <td>Scotland</td>\n      <td>51.0</td>\n      <td>8.0</td>\n      <td>S01006853</td>\n      <td>NaN</td>\n      <td>S02001296</td>\n      <td>Dunecht, Durris and Drumoak</td>\n      <td>NaN</td>\n      <td>S00091322</td>\n      <td>S14000058</td>\n      <td>5069.0</td>\n      <td>8.0</td>\n      <td>0.0</td>\n      <td>2022-05-25</td>\n      <td>Portlethen</td>\n      <td>8.20809</td>\n      <td>AB</td>\n      <td>AB1</td>\n      <td>Scotland</td>\n      <td>Scottish Water</td>\n      <td>9C9V3PMV+QP</td>\n      <td>NaN</td>\n      <td>NaN</td>\n      <td>Aberdeen</td>\n      <td>North Eastern Scotland</td>\n      <td>Aberdeen City and Aberdeenshire</td>\n      <td>NaN</td>\n      <td>9.39683</td>\n    </tr>\n    <tr>\n      <th>4</th>\n      <td>AB1 0AF</td>\n      <td>No</td>\n      <td>57.096656</td>\n      <td>-2.258102</td>\n      <td>384460.0</td>\n      <td>800660.0</td>\n      <td>NJ844006</td>\n      <td>NaN</td>\n      <td>Aberdeen City</td>\n      <td>Lower Deeside</td>\n      <td>S12000033</td>\n      <td>S13002843</td>\n      <td>Scotland</td>\n      <td>S99999999</td>\n      <td>Aberdeen South</td>\n      <td>1990-12-01</td>\n      <td>1992-07-01</td>\n      <td>NaN</td>\n      <td>NaN</td>\n      <td>NaN</td>\n      <td>NaN</td>\n      <td>NaN</td>\n      <td>NaN</td>\n      <td>Culter - 06</td>\n      <td>Accessible small town</td>\n      <td>Scotland</td>\n      <td>46.0</td>\n      <td>8.0</td>\n      <td>S01006511</td>\n      <td>NaN</td>\n      <td>S02001236</td>\n      <td>Culter</td>\n      <td>NaN</td>\n      <td>S00090299</td>\n      <td>S14000002</td>\n      <td>6253.0</td>\n      <td>8.0</td>\n      <td>1.0</td>\n      <td>2022-05-25</td>\n      <td>Portlethen</td>\n      <td>8.85583</td>\n      <td>AB</td>\n      <td>AB1</td>\n      <td>Scotland</td>\n      <td>Scottish Water</td>\n      <td>9C9V3PWR+MQ</td>\n      <td>NaN</td>\n      <td>NaN</td>\n      <td>Aberdeen</td>\n      <td>North Eastern Scotland</td>\n      <td>Aberdeen City and Aberdeenshire</td>\n      <td>NaN</td>\n      <td>10.56160</td>\n    </tr>\n  </tbody>\n</table>\n</div>"
     },
     "execution_count": 141,
     "metadata": {},
     "output_type": "execute_result"
    }
   ],
   "source": [
    "pc_df = clean_names(df_postcode)\n",
    "pc_df[\"london_zone\"] = pc_df[\"london_zone\"].fillna(10)\n",
    "pc_df.head()\n"
   ],
   "metadata": {
    "collapsed": false,
    "pycharm": {
     "name": "#%%\n"
    }
   }
  },
  {
   "cell_type": "code",
   "execution_count": 134,
   "outputs": [
    {
     "data": {
      "text/plain": "Yes    1776153\nNo      887071\nName: in_use_, dtype: int64"
     },
     "execution_count": 134,
     "metadata": {},
     "output_type": "execute_result"
    }
   ],
   "source": [
    "pc_df.in_use_.value_counts()"
   ],
   "metadata": {
    "collapsed": false,
    "pycharm": {
     "name": "#%%\n"
    }
   }
  },
  {
   "cell_type": "code",
   "execution_count": 135,
   "outputs": [
    {
     "data": {
      "text/plain": "(2663224, 53)"
     },
     "execution_count": 135,
     "metadata": {},
     "output_type": "execute_result"
    }
   ],
   "source": [
    "pc_df.shape"
   ],
   "metadata": {
    "collapsed": false,
    "pycharm": {
     "name": "#%%\n"
    }
   }
  },
  {
   "cell_type": "code",
   "execution_count": 136,
   "outputs": [],
   "source": [
    "pc_df = pc_df.dropna(axis=\"columns\", how=\"all\", thresh=0.5*pc_df.shape[0])"
   ],
   "metadata": {
    "collapsed": false,
    "pycharm": {
     "name": "#%%\n"
    }
   }
  },
  {
   "cell_type": "code",
   "execution_count": 137,
   "outputs": [
    {
     "data": {
      "text/plain": "(2663224, 48)"
     },
     "execution_count": 137,
     "metadata": {},
     "output_type": "execute_result"
    }
   ],
   "source": [
    "pc_df.shape"
   ],
   "metadata": {
    "collapsed": false,
    "pycharm": {
     "name": "#%%\n"
    }
   }
  },
  {
   "cell_type": "code",
   "execution_count": 138,
   "outputs": [
    {
     "data": {
      "text/plain": "  postcode in_use_   latitude  longitude   easting  northing  grid_ref county  \\\n0  AB1 0AA      No  57.101474  -2.242851  385386.0  801193.0  NJ853011    NaN   \n1  AB1 0AB      No  57.102554  -2.246308  385177.0  801314.0  NJ851013    NaN   \n2  AB1 0AD      No  57.100556  -2.248342  385053.0  801092.0  NJ850010    NaN   \n3  AB1 0AE      No  57.084444  -2.255708  384600.0  799300.0  NO845993    NaN   \n4  AB1 0AF      No  57.096656  -2.258102  384460.0  800660.0  NJ844006    NaN   \n\n        district              ward district_code  ward_code   country  \\\n0  Aberdeen City     Lower Deeside     S12000033  S13002843  Scotland   \n1  Aberdeen City     Lower Deeside     S12000033  S13002843  Scotland   \n2  Aberdeen City     Lower Deeside     S12000033  S13002843  Scotland   \n3  Aberdeenshire  North Kincardine     S12000034  S13002864  Scotland   \n4  Aberdeen City     Lower Deeside     S12000033  S13002843  Scotland   \n\n  county_code                       constituency  introduced parish  \\\n0   S99999999                     Aberdeen South  1980-01-01    NaN   \n1   S99999999                     Aberdeen South  1980-01-01    NaN   \n2   S99999999                     Aberdeen South  1980-01-01    NaN   \n3   S99999999  West Aberdeenshire and Kincardine  1994-02-01    NaN   \n4   S99999999                     Aberdeen South  1990-12-01    NaN   \n\n   population  households built_up_area built_up_sub_division  \\\n0         NaN         NaN           NaN                   NaN   \n1         NaN         NaN           NaN                   NaN   \n2         NaN         NaN           NaN                   NaN   \n3         NaN         NaN           NaN                   NaN   \n4         NaN         NaN           NaN                   NaN   \n\n               lower_layer_super_output_area            rural_urban    region  \\\n0  Cults, Bieldside and Milltimber West - 02  Accessible small town  Scotland   \n1  Cults, Bieldside and Milltimber West - 02  Accessible small town  Scotland   \n2  Cults, Bieldside and Milltimber West - 02  Accessible small town  Scotland   \n3           Dunecht, Durris and Drumoak - 01  Accessible rural area  Scotland   \n4                                Culter - 06  Accessible small town  Scotland   \n\n   altitude  lsoa_code  msoa_code        middle_layer_super_output_area  \\\n0      46.0  S01006514  S02001237  Cults, Bieldside and Milltimber West   \n1      61.0  S01006514  S02001237  Cults, Bieldside and Milltimber West   \n2      45.0  S01006514  S02001237  Cults, Bieldside and Milltimber West   \n3      51.0  S01006853  S02001296           Dunecht, Durris and Drumoak   \n4      46.0  S01006511  S02001236                                Culter   \n\n  parish_code census_output_area constituency_code  \\\n0         NaN          S00090303         S14000002   \n1         NaN          S00090303         S14000002   \n2         NaN          S00090399         S14000002   \n3         NaN          S00091322         S14000058   \n4         NaN          S00090299         S14000002   \n\n   index_of_multiple_deprivation  quality  user_type last_updated  \\\n0                         6715.0      1.0        0.0   2022-05-25   \n1                         6715.0      1.0        0.0   2022-05-25   \n2                         6715.0      1.0        0.0   2022-05-25   \n3                         5069.0      8.0        0.0   2022-05-25   \n4                         6253.0      8.0        1.0   2022-05-25   \n\n  nearest_station  distance_to_station postcode_area postcode_district  \\\n0      Portlethen              8.31408            AB               AB1   \n1      Portlethen              8.55457            AB               AB1   \n2      Portlethen              8.54352            AB               AB1   \n3      Portlethen              8.20809            AB               AB1   \n4      Portlethen              8.85583            AB               AB1   \n\n  police_force   water_company    plus_code  average_income  \\\n0     Scotland  Scottish Water  9C9V4Q24+HV             NaN   \n1     Scotland  Scottish Water  9C9V4Q33+2F             NaN   \n2     Scotland  Scottish Water  9C9V4Q22+6M             NaN   \n3     Scotland  Scottish Water  9C9V3PMV+QP             NaN   \n4     Scotland  Scottish Water  9C9V3PWR+MQ             NaN   \n\n  travel_to_work_area             itl_level_2  \\\n0            Aberdeen  North Eastern Scotland   \n1            Aberdeen  North Eastern Scotland   \n2            Aberdeen  North Eastern Scotland   \n3            Aberdeen  North Eastern Scotland   \n4            Aberdeen  North Eastern Scotland   \n\n                       itl_level_3 uprns  distance_to_sea  \n0  Aberdeen City and Aberdeenshire   NaN          9.87661  \n1  Aberdeen City and Aberdeenshire   NaN         10.11510  \n2  Aberdeen City and Aberdeenshire   NaN         10.14760  \n3  Aberdeen City and Aberdeenshire   NaN          9.39683  \n4  Aberdeen City and Aberdeenshire   NaN         10.56160  ",
      "text/html": "<div>\n<style scoped>\n    .dataframe tbody tr th:only-of-type {\n        vertical-align: middle;\n    }\n\n    .dataframe tbody tr th {\n        vertical-align: top;\n    }\n\n    .dataframe thead th {\n        text-align: right;\n    }\n</style>\n<table border=\"1\" class=\"dataframe\">\n  <thead>\n    <tr style=\"text-align: right;\">\n      <th></th>\n      <th>postcode</th>\n      <th>in_use_</th>\n      <th>latitude</th>\n      <th>longitude</th>\n      <th>easting</th>\n      <th>northing</th>\n      <th>grid_ref</th>\n      <th>county</th>\n      <th>district</th>\n      <th>ward</th>\n      <th>district_code</th>\n      <th>ward_code</th>\n      <th>country</th>\n      <th>county_code</th>\n      <th>constituency</th>\n      <th>introduced</th>\n      <th>parish</th>\n      <th>population</th>\n      <th>households</th>\n      <th>built_up_area</th>\n      <th>built_up_sub_division</th>\n      <th>lower_layer_super_output_area</th>\n      <th>rural_urban</th>\n      <th>region</th>\n      <th>altitude</th>\n      <th>lsoa_code</th>\n      <th>msoa_code</th>\n      <th>middle_layer_super_output_area</th>\n      <th>parish_code</th>\n      <th>census_output_area</th>\n      <th>constituency_code</th>\n      <th>index_of_multiple_deprivation</th>\n      <th>quality</th>\n      <th>user_type</th>\n      <th>last_updated</th>\n      <th>nearest_station</th>\n      <th>distance_to_station</th>\n      <th>postcode_area</th>\n      <th>postcode_district</th>\n      <th>police_force</th>\n      <th>water_company</th>\n      <th>plus_code</th>\n      <th>average_income</th>\n      <th>travel_to_work_area</th>\n      <th>itl_level_2</th>\n      <th>itl_level_3</th>\n      <th>uprns</th>\n      <th>distance_to_sea</th>\n    </tr>\n  </thead>\n  <tbody>\n    <tr>\n      <th>0</th>\n      <td>AB1 0AA</td>\n      <td>No</td>\n      <td>57.101474</td>\n      <td>-2.242851</td>\n      <td>385386.0</td>\n      <td>801193.0</td>\n      <td>NJ853011</td>\n      <td>NaN</td>\n      <td>Aberdeen City</td>\n      <td>Lower Deeside</td>\n      <td>S12000033</td>\n      <td>S13002843</td>\n      <td>Scotland</td>\n      <td>S99999999</td>\n      <td>Aberdeen South</td>\n      <td>1980-01-01</td>\n      <td>NaN</td>\n      <td>NaN</td>\n      <td>NaN</td>\n      <td>NaN</td>\n      <td>NaN</td>\n      <td>Cults, Bieldside and Milltimber West - 02</td>\n      <td>Accessible small town</td>\n      <td>Scotland</td>\n      <td>46.0</td>\n      <td>S01006514</td>\n      <td>S02001237</td>\n      <td>Cults, Bieldside and Milltimber West</td>\n      <td>NaN</td>\n      <td>S00090303</td>\n      <td>S14000002</td>\n      <td>6715.0</td>\n      <td>1.0</td>\n      <td>0.0</td>\n      <td>2022-05-25</td>\n      <td>Portlethen</td>\n      <td>8.31408</td>\n      <td>AB</td>\n      <td>AB1</td>\n      <td>Scotland</td>\n      <td>Scottish Water</td>\n      <td>9C9V4Q24+HV</td>\n      <td>NaN</td>\n      <td>Aberdeen</td>\n      <td>North Eastern Scotland</td>\n      <td>Aberdeen City and Aberdeenshire</td>\n      <td>NaN</td>\n      <td>9.87661</td>\n    </tr>\n    <tr>\n      <th>1</th>\n      <td>AB1 0AB</td>\n      <td>No</td>\n      <td>57.102554</td>\n      <td>-2.246308</td>\n      <td>385177.0</td>\n      <td>801314.0</td>\n      <td>NJ851013</td>\n      <td>NaN</td>\n      <td>Aberdeen City</td>\n      <td>Lower Deeside</td>\n      <td>S12000033</td>\n      <td>S13002843</td>\n      <td>Scotland</td>\n      <td>S99999999</td>\n      <td>Aberdeen South</td>\n      <td>1980-01-01</td>\n      <td>NaN</td>\n      <td>NaN</td>\n      <td>NaN</td>\n      <td>NaN</td>\n      <td>NaN</td>\n      <td>Cults, Bieldside and Milltimber West - 02</td>\n      <td>Accessible small town</td>\n      <td>Scotland</td>\n      <td>61.0</td>\n      <td>S01006514</td>\n      <td>S02001237</td>\n      <td>Cults, Bieldside and Milltimber West</td>\n      <td>NaN</td>\n      <td>S00090303</td>\n      <td>S14000002</td>\n      <td>6715.0</td>\n      <td>1.0</td>\n      <td>0.0</td>\n      <td>2022-05-25</td>\n      <td>Portlethen</td>\n      <td>8.55457</td>\n      <td>AB</td>\n      <td>AB1</td>\n      <td>Scotland</td>\n      <td>Scottish Water</td>\n      <td>9C9V4Q33+2F</td>\n      <td>NaN</td>\n      <td>Aberdeen</td>\n      <td>North Eastern Scotland</td>\n      <td>Aberdeen City and Aberdeenshire</td>\n      <td>NaN</td>\n      <td>10.11510</td>\n    </tr>\n    <tr>\n      <th>2</th>\n      <td>AB1 0AD</td>\n      <td>No</td>\n      <td>57.100556</td>\n      <td>-2.248342</td>\n      <td>385053.0</td>\n      <td>801092.0</td>\n      <td>NJ850010</td>\n      <td>NaN</td>\n      <td>Aberdeen City</td>\n      <td>Lower Deeside</td>\n      <td>S12000033</td>\n      <td>S13002843</td>\n      <td>Scotland</td>\n      <td>S99999999</td>\n      <td>Aberdeen South</td>\n      <td>1980-01-01</td>\n      <td>NaN</td>\n      <td>NaN</td>\n      <td>NaN</td>\n      <td>NaN</td>\n      <td>NaN</td>\n      <td>Cults, Bieldside and Milltimber West - 02</td>\n      <td>Accessible small town</td>\n      <td>Scotland</td>\n      <td>45.0</td>\n      <td>S01006514</td>\n      <td>S02001237</td>\n      <td>Cults, Bieldside and Milltimber West</td>\n      <td>NaN</td>\n      <td>S00090399</td>\n      <td>S14000002</td>\n      <td>6715.0</td>\n      <td>1.0</td>\n      <td>0.0</td>\n      <td>2022-05-25</td>\n      <td>Portlethen</td>\n      <td>8.54352</td>\n      <td>AB</td>\n      <td>AB1</td>\n      <td>Scotland</td>\n      <td>Scottish Water</td>\n      <td>9C9V4Q22+6M</td>\n      <td>NaN</td>\n      <td>Aberdeen</td>\n      <td>North Eastern Scotland</td>\n      <td>Aberdeen City and Aberdeenshire</td>\n      <td>NaN</td>\n      <td>10.14760</td>\n    </tr>\n    <tr>\n      <th>3</th>\n      <td>AB1 0AE</td>\n      <td>No</td>\n      <td>57.084444</td>\n      <td>-2.255708</td>\n      <td>384600.0</td>\n      <td>799300.0</td>\n      <td>NO845993</td>\n      <td>NaN</td>\n      <td>Aberdeenshire</td>\n      <td>North Kincardine</td>\n      <td>S12000034</td>\n      <td>S13002864</td>\n      <td>Scotland</td>\n      <td>S99999999</td>\n      <td>West Aberdeenshire and Kincardine</td>\n      <td>1994-02-01</td>\n      <td>NaN</td>\n      <td>NaN</td>\n      <td>NaN</td>\n      <td>NaN</td>\n      <td>NaN</td>\n      <td>Dunecht, Durris and Drumoak - 01</td>\n      <td>Accessible rural area</td>\n      <td>Scotland</td>\n      <td>51.0</td>\n      <td>S01006853</td>\n      <td>S02001296</td>\n      <td>Dunecht, Durris and Drumoak</td>\n      <td>NaN</td>\n      <td>S00091322</td>\n      <td>S14000058</td>\n      <td>5069.0</td>\n      <td>8.0</td>\n      <td>0.0</td>\n      <td>2022-05-25</td>\n      <td>Portlethen</td>\n      <td>8.20809</td>\n      <td>AB</td>\n      <td>AB1</td>\n      <td>Scotland</td>\n      <td>Scottish Water</td>\n      <td>9C9V3PMV+QP</td>\n      <td>NaN</td>\n      <td>Aberdeen</td>\n      <td>North Eastern Scotland</td>\n      <td>Aberdeen City and Aberdeenshire</td>\n      <td>NaN</td>\n      <td>9.39683</td>\n    </tr>\n    <tr>\n      <th>4</th>\n      <td>AB1 0AF</td>\n      <td>No</td>\n      <td>57.096656</td>\n      <td>-2.258102</td>\n      <td>384460.0</td>\n      <td>800660.0</td>\n      <td>NJ844006</td>\n      <td>NaN</td>\n      <td>Aberdeen City</td>\n      <td>Lower Deeside</td>\n      <td>S12000033</td>\n      <td>S13002843</td>\n      <td>Scotland</td>\n      <td>S99999999</td>\n      <td>Aberdeen South</td>\n      <td>1990-12-01</td>\n      <td>NaN</td>\n      <td>NaN</td>\n      <td>NaN</td>\n      <td>NaN</td>\n      <td>NaN</td>\n      <td>Culter - 06</td>\n      <td>Accessible small town</td>\n      <td>Scotland</td>\n      <td>46.0</td>\n      <td>S01006511</td>\n      <td>S02001236</td>\n      <td>Culter</td>\n      <td>NaN</td>\n      <td>S00090299</td>\n      <td>S14000002</td>\n      <td>6253.0</td>\n      <td>8.0</td>\n      <td>1.0</td>\n      <td>2022-05-25</td>\n      <td>Portlethen</td>\n      <td>8.85583</td>\n      <td>AB</td>\n      <td>AB1</td>\n      <td>Scotland</td>\n      <td>Scottish Water</td>\n      <td>9C9V3PWR+MQ</td>\n      <td>NaN</td>\n      <td>Aberdeen</td>\n      <td>North Eastern Scotland</td>\n      <td>Aberdeen City and Aberdeenshire</td>\n      <td>NaN</td>\n      <td>10.56160</td>\n    </tr>\n  </tbody>\n</table>\n</div>"
     },
     "execution_count": 138,
     "metadata": {},
     "output_type": "execute_result"
    }
   ],
   "source": [
    "pc_df.head()"
   ],
   "metadata": {
    "collapsed": false,
    "pycharm": {
     "name": "#%%\n"
    }
   }
  },
  {
   "cell_type": "code",
   "execution_count": 139,
   "outputs": [
    {
     "name": "stdout",
     "output_type": "stream",
     "text": [
      "['postcode']\n"
     ]
    }
   ],
   "source": [
    "a = np.intersect1d(pp_df.columns, pc_df.columns)\n",
    "print (a)"
   ],
   "metadata": {
    "collapsed": false,
    "pycharm": {
     "name": "#%%\n"
    }
   }
  },
  {
   "cell_type": "code",
   "execution_count": 140,
   "outputs": [
    {
     "name": "stdout",
     "output_type": "stream",
     "text": [
      "[]\n"
     ]
    }
   ],
   "source": [
    "b = np.intersect1d(hpi_df.columns, pc_df.columns)\n",
    "print (b)"
   ],
   "metadata": {
    "collapsed": false,
    "pycharm": {
     "name": "#%%\n"
    }
   }
  },
  {
   "cell_type": "code",
   "execution_count": null,
   "outputs": [],
   "source": [],
   "metadata": {
    "collapsed": false,
    "pycharm": {
     "name": "#%%\n"
    }
   }
  },
  {
   "cell_type": "code",
   "execution_count": null,
   "outputs": [],
   "source": [
    "hpi_df = hpi_df.dropna(axis=\"columns\", how=\"all\", thresh=0.5*hpi_df.shape[0])"
   ],
   "metadata": {
    "collapsed": false,
    "pycharm": {
     "name": "#%%\n"
    }
   }
  },
  {
   "cell_type": "code",
   "execution_count": null,
   "outputs": [],
   "source": [
    "df_house_index = (\n",
    "    df_house_index.pipe(clean_names)\n",
    "    .pipe(drop_columns, string=\"change|price\")\n",
    "    .pipe(col_to_dates, cols=[\"date\"])\n",
    "    .rename({\"date\": \"hpi_date\"}, axis=\"columns\")\n",
    ")"
   ],
   "metadata": {
    "collapsed": false,
    "pycharm": {
     "name": "#%%\n"
    }
   }
  },
  {
   "cell_type": "code",
   "execution_count": null,
   "outputs": [],
   "source": [],
   "metadata": {
    "collapsed": false,
    "pycharm": {
     "name": "#%%\n"
    }
   }
  },
  {
   "cell_type": "markdown",
   "source": [
    "# HPI Data"
   ],
   "metadata": {
    "collapsed": false,
    "pycharm": {
     "name": "#%% md\n"
    }
   }
  },
  {
   "cell_type": "code",
   "execution_count": 125,
   "outputs": [],
   "source": [
    "hpi_columns = {\n",
    "    \"regionname\": \"region_name\",\n",
    "    \"areacode\": \"area_code\",\n",
    "    \"detachedindex\": \"detached_index\",\n",
    "    \"semidetachedindex\": \"semi_detached_index\",\n",
    "    \"terracedindex\": \"terraced_index\",\n",
    "    \"flatindex\": \"flat_index\",\n",
    "}"
   ],
   "metadata": {
    "collapsed": false,
    "pycharm": {
     "name": "#%%\n"
    }
   }
  },
  {
   "cell_type": "code",
   "execution_count": 127,
   "outputs": [
    {
     "name": "stdout",
     "output_type": "stream",
     "text": [
      "(136513, 9)\n"
     ]
    }
   ],
   "source": [
    "hpi_df = clean_names(df_house_index)\n",
    "hpi_df = hpi_df[[\"date\", \"regionname\", \"areacode\", \"index\",\n",
    "       \"detachedindex\", \"semidetachedindex\", \"terracedindex\", \"flatindex\"]]\n",
    "hpi_df = hpi_df.rename(hpi_columns, axis=\"columns\")\n",
    "hpi_df[\"date\"] = pd.to_datetime(hpi_df[\"date\"],format=\"%d/%m/%Y\")\n",
    "hpi_df = month_year(hpi_df, month_year_column=\"hpi_month_year\")\n",
    "hpi_df.head()\n",
    "print(hpi_df.shape)"
   ],
   "metadata": {
    "collapsed": false,
    "pycharm": {
     "name": "#%%\n"
    }
   }
  },
  {
   "cell_type": "code",
   "execution_count": 130,
   "outputs": [
    {
     "data": {
      "text/plain": "date                   datetime64[ns]\nregion_name                    object\narea_code                      object\nindex                         float64\ndetached_index                float64\nsemi_detached_index           float64\nterraced_index                float64\nflat_index                    float64\nhpi_month_year              period[M]\ndtype: object"
     },
     "execution_count": 130,
     "metadata": {},
     "output_type": "execute_result"
    }
   ],
   "source": [
    "hpi_df.dtypes"
   ],
   "metadata": {
    "collapsed": false,
    "pycharm": {
     "name": "#%%\n"
    }
   }
  },
  {
   "cell_type": "code",
   "execution_count": 30,
   "outputs": [
    {
     "data": {
      "text/plain": "136513"
     },
     "execution_count": 30,
     "metadata": {},
     "output_type": "execute_result"
    }
   ],
   "source": [
    "df_house_index.shape[0]"
   ],
   "metadata": {
    "collapsed": false,
    "pycharm": {
     "name": "#%%\n"
    }
   }
  },
  {
   "cell_type": "code",
   "execution_count": 32,
   "outputs": [
    {
     "data": {
      "text/plain": "         Date     RegionName   AreaCode  AveragePrice      Index  1m%Change  \\\n0  01/01/2004  Aberdeenshire  S12000034   81693.66964  40.864214        NaN   \n1  01/02/2004  Aberdeenshire  S12000034   81678.76231  40.856757  -0.018248   \n2  01/03/2004  Aberdeenshire  S12000034   83525.09702  41.780317   2.260483   \n3  01/04/2004  Aberdeenshire  S12000034   84333.67900  42.184780   0.968071   \n4  01/05/2004  Aberdeenshire  S12000034   86379.95396  43.208353   2.426403   \n\n   12m%Change  SalesVolume  DetachedPrice  DetachedIndex  Detached1m%Change  \\\n0         NaN        388.0    122490.0641      43.610982                NaN   \n1         NaN        326.0    121280.8840      43.180469          -0.987166   \n2         NaN        453.0    123395.4269      43.933325           1.743509   \n3         NaN        571.0    122334.0258      43.555427          -0.860162   \n4         NaN        502.0    124498.8747      44.326193           1.769621   \n\n   Detached12m%Change  SemiDetachedPrice  SemiDetachedIndex  \\\n0                 NaN        70563.15784          40.821887   \n1                 NaN        70804.42408          40.961464   \n2                 NaN        72689.07253          42.051762   \n3                 NaN        74484.23119          43.090289   \n4                 NaN        76637.73414          44.336124   \n\n   SemiDetached1m%Change  SemiDetached12m%Change  TerracedPrice  \\\n0                    NaN                     NaN    55319.63336   \n1               0.341915                     NaN    55720.07531   \n2               2.661767                     NaN    57362.85925   \n3               2.469640                     NaN    59193.39722   \n4               2.891220                     NaN    61202.79629   \n\n   TerracedIndex  Terraced1m%Change  Terraced12m%Change    FlatPrice  \\\n0      38.305671                NaN                 NaN  48016.07412   \n1      38.582954           0.723869                 NaN  49030.18133   \n2      39.720488           2.948280                 NaN  50349.44771   \n3      40.988030           3.191155                 NaN  51736.22329   \n4      42.379424           3.394634                 NaN  53230.23061   \n\n   FlatIndex  Flat1m%Change  Flat12m%Change     NewPrice   NewIndex  \\\n0  42.433549            NaN             NaN  88436.13953  40.267250   \n1  43.329752       2.112016             NaN  88606.44649  40.344795   \n2  44.495636       2.690723             NaN  90296.91375  41.114508   \n3  45.721180       2.754301             NaN  90319.87844  41.124964   \n4  47.041488       2.887739             NaN  91989.17763  41.885039   \n\n   New1m%Change  New12m%Change  NewSalesVolume     OldPrice   OldIndex  \\\n0           NaN            NaN           103.0  81043.95084  40.883367   \n1      0.192576            NaN           107.0  80965.29542  40.843688   \n2      1.907838            NaN           140.0  82903.23948  41.821302   \n3      0.025432            NaN           180.0  84003.99161  42.376586   \n4      1.848208            NaN           167.0  86222.73484  43.495852   \n\n   Old1m%Change  Old12m%Change  OldSalesVolume  \n0           NaN            NaN           285.0  \n1     -0.097053            NaN           219.0  \n2      2.393549            NaN           313.0  \n3      1.327755            NaN           391.0  \n4      2.641235            NaN           335.0  ",
      "text/html": "<div>\n<style scoped>\n    .dataframe tbody tr th:only-of-type {\n        vertical-align: middle;\n    }\n\n    .dataframe tbody tr th {\n        vertical-align: top;\n    }\n\n    .dataframe thead th {\n        text-align: right;\n    }\n</style>\n<table border=\"1\" class=\"dataframe\">\n  <thead>\n    <tr style=\"text-align: right;\">\n      <th></th>\n      <th>Date</th>\n      <th>RegionName</th>\n      <th>AreaCode</th>\n      <th>AveragePrice</th>\n      <th>Index</th>\n      <th>1m%Change</th>\n      <th>12m%Change</th>\n      <th>SalesVolume</th>\n      <th>DetachedPrice</th>\n      <th>DetachedIndex</th>\n      <th>Detached1m%Change</th>\n      <th>Detached12m%Change</th>\n      <th>SemiDetachedPrice</th>\n      <th>SemiDetachedIndex</th>\n      <th>SemiDetached1m%Change</th>\n      <th>SemiDetached12m%Change</th>\n      <th>TerracedPrice</th>\n      <th>TerracedIndex</th>\n      <th>Terraced1m%Change</th>\n      <th>Terraced12m%Change</th>\n      <th>FlatPrice</th>\n      <th>FlatIndex</th>\n      <th>Flat1m%Change</th>\n      <th>Flat12m%Change</th>\n      <th>NewPrice</th>\n      <th>NewIndex</th>\n      <th>New1m%Change</th>\n      <th>New12m%Change</th>\n      <th>NewSalesVolume</th>\n      <th>OldPrice</th>\n      <th>OldIndex</th>\n      <th>Old1m%Change</th>\n      <th>Old12m%Change</th>\n      <th>OldSalesVolume</th>\n    </tr>\n  </thead>\n  <tbody>\n    <tr>\n      <th>0</th>\n      <td>01/01/2004</td>\n      <td>Aberdeenshire</td>\n      <td>S12000034</td>\n      <td>81693.66964</td>\n      <td>40.864214</td>\n      <td>NaN</td>\n      <td>NaN</td>\n      <td>388.0</td>\n      <td>122490.0641</td>\n      <td>43.610982</td>\n      <td>NaN</td>\n      <td>NaN</td>\n      <td>70563.15784</td>\n      <td>40.821887</td>\n      <td>NaN</td>\n      <td>NaN</td>\n      <td>55319.63336</td>\n      <td>38.305671</td>\n      <td>NaN</td>\n      <td>NaN</td>\n      <td>48016.07412</td>\n      <td>42.433549</td>\n      <td>NaN</td>\n      <td>NaN</td>\n      <td>88436.13953</td>\n      <td>40.267250</td>\n      <td>NaN</td>\n      <td>NaN</td>\n      <td>103.0</td>\n      <td>81043.95084</td>\n      <td>40.883367</td>\n      <td>NaN</td>\n      <td>NaN</td>\n      <td>285.0</td>\n    </tr>\n    <tr>\n      <th>1</th>\n      <td>01/02/2004</td>\n      <td>Aberdeenshire</td>\n      <td>S12000034</td>\n      <td>81678.76231</td>\n      <td>40.856757</td>\n      <td>-0.018248</td>\n      <td>NaN</td>\n      <td>326.0</td>\n      <td>121280.8840</td>\n      <td>43.180469</td>\n      <td>-0.987166</td>\n      <td>NaN</td>\n      <td>70804.42408</td>\n      <td>40.961464</td>\n      <td>0.341915</td>\n      <td>NaN</td>\n      <td>55720.07531</td>\n      <td>38.582954</td>\n      <td>0.723869</td>\n      <td>NaN</td>\n      <td>49030.18133</td>\n      <td>43.329752</td>\n      <td>2.112016</td>\n      <td>NaN</td>\n      <td>88606.44649</td>\n      <td>40.344795</td>\n      <td>0.192576</td>\n      <td>NaN</td>\n      <td>107.0</td>\n      <td>80965.29542</td>\n      <td>40.843688</td>\n      <td>-0.097053</td>\n      <td>NaN</td>\n      <td>219.0</td>\n    </tr>\n    <tr>\n      <th>2</th>\n      <td>01/03/2004</td>\n      <td>Aberdeenshire</td>\n      <td>S12000034</td>\n      <td>83525.09702</td>\n      <td>41.780317</td>\n      <td>2.260483</td>\n      <td>NaN</td>\n      <td>453.0</td>\n      <td>123395.4269</td>\n      <td>43.933325</td>\n      <td>1.743509</td>\n      <td>NaN</td>\n      <td>72689.07253</td>\n      <td>42.051762</td>\n      <td>2.661767</td>\n      <td>NaN</td>\n      <td>57362.85925</td>\n      <td>39.720488</td>\n      <td>2.948280</td>\n      <td>NaN</td>\n      <td>50349.44771</td>\n      <td>44.495636</td>\n      <td>2.690723</td>\n      <td>NaN</td>\n      <td>90296.91375</td>\n      <td>41.114508</td>\n      <td>1.907838</td>\n      <td>NaN</td>\n      <td>140.0</td>\n      <td>82903.23948</td>\n      <td>41.821302</td>\n      <td>2.393549</td>\n      <td>NaN</td>\n      <td>313.0</td>\n    </tr>\n    <tr>\n      <th>3</th>\n      <td>01/04/2004</td>\n      <td>Aberdeenshire</td>\n      <td>S12000034</td>\n      <td>84333.67900</td>\n      <td>42.184780</td>\n      <td>0.968071</td>\n      <td>NaN</td>\n      <td>571.0</td>\n      <td>122334.0258</td>\n      <td>43.555427</td>\n      <td>-0.860162</td>\n      <td>NaN</td>\n      <td>74484.23119</td>\n      <td>43.090289</td>\n      <td>2.469640</td>\n      <td>NaN</td>\n      <td>59193.39722</td>\n      <td>40.988030</td>\n      <td>3.191155</td>\n      <td>NaN</td>\n      <td>51736.22329</td>\n      <td>45.721180</td>\n      <td>2.754301</td>\n      <td>NaN</td>\n      <td>90319.87844</td>\n      <td>41.124964</td>\n      <td>0.025432</td>\n      <td>NaN</td>\n      <td>180.0</td>\n      <td>84003.99161</td>\n      <td>42.376586</td>\n      <td>1.327755</td>\n      <td>NaN</td>\n      <td>391.0</td>\n    </tr>\n    <tr>\n      <th>4</th>\n      <td>01/05/2004</td>\n      <td>Aberdeenshire</td>\n      <td>S12000034</td>\n      <td>86379.95396</td>\n      <td>43.208353</td>\n      <td>2.426403</td>\n      <td>NaN</td>\n      <td>502.0</td>\n      <td>124498.8747</td>\n      <td>44.326193</td>\n      <td>1.769621</td>\n      <td>NaN</td>\n      <td>76637.73414</td>\n      <td>44.336124</td>\n      <td>2.891220</td>\n      <td>NaN</td>\n      <td>61202.79629</td>\n      <td>42.379424</td>\n      <td>3.394634</td>\n      <td>NaN</td>\n      <td>53230.23061</td>\n      <td>47.041488</td>\n      <td>2.887739</td>\n      <td>NaN</td>\n      <td>91989.17763</td>\n      <td>41.885039</td>\n      <td>1.848208</td>\n      <td>NaN</td>\n      <td>167.0</td>\n      <td>86222.73484</td>\n      <td>43.495852</td>\n      <td>2.641235</td>\n      <td>NaN</td>\n      <td>335.0</td>\n    </tr>\n  </tbody>\n</table>\n</div>"
     },
     "execution_count": 32,
     "metadata": {},
     "output_type": "execute_result"
    }
   ],
   "source": [
    "df_house_index.dropna(axis=\"columns\", how=\"all\", thresh=0.5*df_house_index.shape[0], subset=None, inplace=False).head()"
   ],
   "metadata": {
    "collapsed": false,
    "pycharm": {
     "name": "#%%\n"
    }
   }
  },
  {
   "cell_type": "code",
   "execution_count": 35,
   "outputs": [
    {
     "name": "stderr",
     "output_type": "stream",
     "text": [
      "/Users/chris/Documents/zanalytics/projects/zanasonic/services/zanasonic-etl/zanasonic_etl/transform/transform_functions.py:21: FutureWarning: The default value of regex will change from True to False in a future version. In addition, single character regular expressions will *not* be treated as literal strings when regex=True.\n",
      "  df.columns = df.columns.str.replace(\".\", \"_\")\n"
     ]
    }
   ],
   "source": [
    "df_house_index_filter = (\n",
    "    df_house_index.pipe(clean_names)\n",
    "    .pipe(drop_columns, string=\"change|price\")\n",
    "    .rename({\"date\": \"hpi_date\"}, axis=\"columns\")\n",
    ")"
   ],
   "metadata": {
    "collapsed": false,
    "pycharm": {
     "name": "#%%\n"
    }
   }
  },
  {
   "cell_type": "code",
   "execution_count": 36,
   "outputs": [],
   "source": [
    "df_house_index_filter[\"hpi_date\"] = pd.to_datetime(df_house_index_filter[\"hpi_date\"],format=\"%d/%m/%Y\")"
   ],
   "metadata": {
    "collapsed": false,
    "pycharm": {
     "name": "#%%\n"
    }
   }
  },
  {
   "cell_type": "code",
   "execution_count": 37,
   "outputs": [
    {
     "data": {
      "text/plain": "    hpi_date     regionname   areacode      index  indexsa  salesvolume  \\\n0 2004-01-01  Aberdeenshire  S12000034  40.864214      NaN        388.0   \n1 2004-02-01  Aberdeenshire  S12000034  40.856757      NaN        326.0   \n2 2004-03-01  Aberdeenshire  S12000034  41.780317      NaN        453.0   \n3 2004-04-01  Aberdeenshire  S12000034  42.184780      NaN        571.0   \n4 2004-05-01  Aberdeenshire  S12000034  43.208353      NaN        502.0   \n\n   detachedindex  semidetachedindex  terracedindex  flatindex  cashindex  \\\n0      43.610982          40.821887      38.305671  42.433549        NaN   \n1      43.180469          40.961464      38.582954  43.329752        NaN   \n2      43.933325          42.051762      39.720488  44.495636        NaN   \n3      43.555427          43.090289      40.988030  45.721180        NaN   \n4      44.326193          44.336124      42.379424  47.041488        NaN   \n\n   cashsalesvolume  mortgageindex  mortgagesalesvolume  ftbindex  fooindex  \\\n0              NaN            NaN                  NaN       NaN       NaN   \n1              NaN            NaN                  NaN       NaN       NaN   \n2              NaN            NaN                  NaN       NaN       NaN   \n3              NaN            NaN                  NaN       NaN       NaN   \n4              NaN            NaN                  NaN       NaN       NaN   \n\n    newindex  newsalesvolume   oldindex  oldsalesvolume  \n0  40.267250           103.0  40.883367           285.0  \n1  40.344795           107.0  40.843688           219.0  \n2  41.114508           140.0  41.821302           313.0  \n3  41.124964           180.0  42.376586           391.0  \n4  41.885039           167.0  43.495852           335.0  ",
      "text/html": "<div>\n<style scoped>\n    .dataframe tbody tr th:only-of-type {\n        vertical-align: middle;\n    }\n\n    .dataframe tbody tr th {\n        vertical-align: top;\n    }\n\n    .dataframe thead th {\n        text-align: right;\n    }\n</style>\n<table border=\"1\" class=\"dataframe\">\n  <thead>\n    <tr style=\"text-align: right;\">\n      <th></th>\n      <th>hpi_date</th>\n      <th>regionname</th>\n      <th>areacode</th>\n      <th>index</th>\n      <th>indexsa</th>\n      <th>salesvolume</th>\n      <th>detachedindex</th>\n      <th>semidetachedindex</th>\n      <th>terracedindex</th>\n      <th>flatindex</th>\n      <th>cashindex</th>\n      <th>cashsalesvolume</th>\n      <th>mortgageindex</th>\n      <th>mortgagesalesvolume</th>\n      <th>ftbindex</th>\n      <th>fooindex</th>\n      <th>newindex</th>\n      <th>newsalesvolume</th>\n      <th>oldindex</th>\n      <th>oldsalesvolume</th>\n    </tr>\n  </thead>\n  <tbody>\n    <tr>\n      <th>0</th>\n      <td>2004-01-01</td>\n      <td>Aberdeenshire</td>\n      <td>S12000034</td>\n      <td>40.864214</td>\n      <td>NaN</td>\n      <td>388.0</td>\n      <td>43.610982</td>\n      <td>40.821887</td>\n      <td>38.305671</td>\n      <td>42.433549</td>\n      <td>NaN</td>\n      <td>NaN</td>\n      <td>NaN</td>\n      <td>NaN</td>\n      <td>NaN</td>\n      <td>NaN</td>\n      <td>40.267250</td>\n      <td>103.0</td>\n      <td>40.883367</td>\n      <td>285.0</td>\n    </tr>\n    <tr>\n      <th>1</th>\n      <td>2004-02-01</td>\n      <td>Aberdeenshire</td>\n      <td>S12000034</td>\n      <td>40.856757</td>\n      <td>NaN</td>\n      <td>326.0</td>\n      <td>43.180469</td>\n      <td>40.961464</td>\n      <td>38.582954</td>\n      <td>43.329752</td>\n      <td>NaN</td>\n      <td>NaN</td>\n      <td>NaN</td>\n      <td>NaN</td>\n      <td>NaN</td>\n      <td>NaN</td>\n      <td>40.344795</td>\n      <td>107.0</td>\n      <td>40.843688</td>\n      <td>219.0</td>\n    </tr>\n    <tr>\n      <th>2</th>\n      <td>2004-03-01</td>\n      <td>Aberdeenshire</td>\n      <td>S12000034</td>\n      <td>41.780317</td>\n      <td>NaN</td>\n      <td>453.0</td>\n      <td>43.933325</td>\n      <td>42.051762</td>\n      <td>39.720488</td>\n      <td>44.495636</td>\n      <td>NaN</td>\n      <td>NaN</td>\n      <td>NaN</td>\n      <td>NaN</td>\n      <td>NaN</td>\n      <td>NaN</td>\n      <td>41.114508</td>\n      <td>140.0</td>\n      <td>41.821302</td>\n      <td>313.0</td>\n    </tr>\n    <tr>\n      <th>3</th>\n      <td>2004-04-01</td>\n      <td>Aberdeenshire</td>\n      <td>S12000034</td>\n      <td>42.184780</td>\n      <td>NaN</td>\n      <td>571.0</td>\n      <td>43.555427</td>\n      <td>43.090289</td>\n      <td>40.988030</td>\n      <td>45.721180</td>\n      <td>NaN</td>\n      <td>NaN</td>\n      <td>NaN</td>\n      <td>NaN</td>\n      <td>NaN</td>\n      <td>NaN</td>\n      <td>41.124964</td>\n      <td>180.0</td>\n      <td>42.376586</td>\n      <td>391.0</td>\n    </tr>\n    <tr>\n      <th>4</th>\n      <td>2004-05-01</td>\n      <td>Aberdeenshire</td>\n      <td>S12000034</td>\n      <td>43.208353</td>\n      <td>NaN</td>\n      <td>502.0</td>\n      <td>44.326193</td>\n      <td>44.336124</td>\n      <td>42.379424</td>\n      <td>47.041488</td>\n      <td>NaN</td>\n      <td>NaN</td>\n      <td>NaN</td>\n      <td>NaN</td>\n      <td>NaN</td>\n      <td>NaN</td>\n      <td>41.885039</td>\n      <td>167.0</td>\n      <td>43.495852</td>\n      <td>335.0</td>\n    </tr>\n  </tbody>\n</table>\n</div>"
     },
     "execution_count": 37,
     "metadata": {},
     "output_type": "execute_result"
    }
   ],
   "source": [
    "df_house_index_filter.head()"
   ],
   "metadata": {
    "collapsed": false,
    "pycharm": {
     "name": "#%%\n"
    }
   }
  },
  {
   "cell_type": "markdown",
   "source": [],
   "metadata": {
    "collapsed": false,
    "pycharm": {
     "name": "#%% md\n"
    }
   }
  },
  {
   "cell_type": "code",
   "execution_count": 15,
   "outputs": [
    {
     "data": {
      "text/plain": "    hpi_date     regionname   areacode      index  indexsa  salesvolume  \\\n0 2004-01-01  Aberdeenshire  S12000034  40.864214      NaN        388.0   \n1 2004-01-02  Aberdeenshire  S12000034  40.856757      NaN        326.0   \n2 2004-01-03  Aberdeenshire  S12000034  41.780317      NaN        453.0   \n3 2004-01-04  Aberdeenshire  S12000034  42.184780      NaN        571.0   \n4 2004-01-05  Aberdeenshire  S12000034  43.208353      NaN        502.0   \n\n   detachedindex  semidetachedindex  terracedindex  flatindex  cashindex  \\\n0      43.610982          40.821887      38.305671  42.433549        NaN   \n1      43.180469          40.961464      38.582954  43.329752        NaN   \n2      43.933325          42.051762      39.720488  44.495636        NaN   \n3      43.555427          43.090289      40.988030  45.721180        NaN   \n4      44.326193          44.336124      42.379424  47.041488        NaN   \n\n   cashsalesvolume  mortgageindex  mortgagesalesvolume  ftbindex  fooindex  \\\n0              NaN            NaN                  NaN       NaN       NaN   \n1              NaN            NaN                  NaN       NaN       NaN   \n2              NaN            NaN                  NaN       NaN       NaN   \n3              NaN            NaN                  NaN       NaN       NaN   \n4              NaN            NaN                  NaN       NaN       NaN   \n\n    newindex  newsalesvolume   oldindex  oldsalesvolume  \n0  40.267250           103.0  40.883367           285.0  \n1  40.344795           107.0  40.843688           219.0  \n2  41.114508           140.0  41.821302           313.0  \n3  41.124964           180.0  42.376586           391.0  \n4  41.885039           167.0  43.495852           335.0  ",
      "text/html": "<div>\n<style scoped>\n    .dataframe tbody tr th:only-of-type {\n        vertical-align: middle;\n    }\n\n    .dataframe tbody tr th {\n        vertical-align: top;\n    }\n\n    .dataframe thead th {\n        text-align: right;\n    }\n</style>\n<table border=\"1\" class=\"dataframe\">\n  <thead>\n    <tr style=\"text-align: right;\">\n      <th></th>\n      <th>hpi_date</th>\n      <th>regionname</th>\n      <th>areacode</th>\n      <th>index</th>\n      <th>indexsa</th>\n      <th>salesvolume</th>\n      <th>detachedindex</th>\n      <th>semidetachedindex</th>\n      <th>terracedindex</th>\n      <th>flatindex</th>\n      <th>cashindex</th>\n      <th>cashsalesvolume</th>\n      <th>mortgageindex</th>\n      <th>mortgagesalesvolume</th>\n      <th>ftbindex</th>\n      <th>fooindex</th>\n      <th>newindex</th>\n      <th>newsalesvolume</th>\n      <th>oldindex</th>\n      <th>oldsalesvolume</th>\n    </tr>\n  </thead>\n  <tbody>\n    <tr>\n      <th>0</th>\n      <td>2004-01-01</td>\n      <td>Aberdeenshire</td>\n      <td>S12000034</td>\n      <td>40.864214</td>\n      <td>NaN</td>\n      <td>388.0</td>\n      <td>43.610982</td>\n      <td>40.821887</td>\n      <td>38.305671</td>\n      <td>42.433549</td>\n      <td>NaN</td>\n      <td>NaN</td>\n      <td>NaN</td>\n      <td>NaN</td>\n      <td>NaN</td>\n      <td>NaN</td>\n      <td>40.267250</td>\n      <td>103.0</td>\n      <td>40.883367</td>\n      <td>285.0</td>\n    </tr>\n    <tr>\n      <th>1</th>\n      <td>2004-01-02</td>\n      <td>Aberdeenshire</td>\n      <td>S12000034</td>\n      <td>40.856757</td>\n      <td>NaN</td>\n      <td>326.0</td>\n      <td>43.180469</td>\n      <td>40.961464</td>\n      <td>38.582954</td>\n      <td>43.329752</td>\n      <td>NaN</td>\n      <td>NaN</td>\n      <td>NaN</td>\n      <td>NaN</td>\n      <td>NaN</td>\n      <td>NaN</td>\n      <td>40.344795</td>\n      <td>107.0</td>\n      <td>40.843688</td>\n      <td>219.0</td>\n    </tr>\n    <tr>\n      <th>2</th>\n      <td>2004-01-03</td>\n      <td>Aberdeenshire</td>\n      <td>S12000034</td>\n      <td>41.780317</td>\n      <td>NaN</td>\n      <td>453.0</td>\n      <td>43.933325</td>\n      <td>42.051762</td>\n      <td>39.720488</td>\n      <td>44.495636</td>\n      <td>NaN</td>\n      <td>NaN</td>\n      <td>NaN</td>\n      <td>NaN</td>\n      <td>NaN</td>\n      <td>NaN</td>\n      <td>41.114508</td>\n      <td>140.0</td>\n      <td>41.821302</td>\n      <td>313.0</td>\n    </tr>\n    <tr>\n      <th>3</th>\n      <td>2004-01-04</td>\n      <td>Aberdeenshire</td>\n      <td>S12000034</td>\n      <td>42.184780</td>\n      <td>NaN</td>\n      <td>571.0</td>\n      <td>43.555427</td>\n      <td>43.090289</td>\n      <td>40.988030</td>\n      <td>45.721180</td>\n      <td>NaN</td>\n      <td>NaN</td>\n      <td>NaN</td>\n      <td>NaN</td>\n      <td>NaN</td>\n      <td>NaN</td>\n      <td>41.124964</td>\n      <td>180.0</td>\n      <td>42.376586</td>\n      <td>391.0</td>\n    </tr>\n    <tr>\n      <th>4</th>\n      <td>2004-01-05</td>\n      <td>Aberdeenshire</td>\n      <td>S12000034</td>\n      <td>43.208353</td>\n      <td>NaN</td>\n      <td>502.0</td>\n      <td>44.326193</td>\n      <td>44.336124</td>\n      <td>42.379424</td>\n      <td>47.041488</td>\n      <td>NaN</td>\n      <td>NaN</td>\n      <td>NaN</td>\n      <td>NaN</td>\n      <td>NaN</td>\n      <td>NaN</td>\n      <td>41.885039</td>\n      <td>167.0</td>\n      <td>43.495852</td>\n      <td>335.0</td>\n    </tr>\n  </tbody>\n</table>\n</div>"
     },
     "execution_count": 15,
     "metadata": {},
     "output_type": "execute_result"
    }
   ],
   "source": [
    "df_house_index.head()"
   ],
   "metadata": {
    "collapsed": false,
    "pycharm": {
     "name": "#%%\n"
    }
   }
  },
  {
   "cell_type": "code",
   "execution_count": 38,
   "outputs": [
    {
     "data": {
      "text/plain": "Period('2022-04', 'M')"
     },
     "execution_count": 38,
     "metadata": {},
     "output_type": "execute_result"
    }
   ],
   "source": [
    "df_house_index_filter['hpi_date'].dt.to_period('M').max()"
   ],
   "metadata": {
    "collapsed": false,
    "pycharm": {
     "name": "#%%\n"
    }
   }
  },
  {
   "cell_type": "code",
   "execution_count": 20,
   "outputs": [],
   "source": [
    "df_house_index.sort_values(by='hpi_date', inplace=True, ascending=False)"
   ],
   "metadata": {
    "collapsed": false,
    "pycharm": {
     "name": "#%%\n"
    }
   }
  },
  {
   "cell_type": "code",
   "execution_count": 21,
   "outputs": [
    {
     "data": {
      "text/plain": "         hpi_date                regionname   areacode       index  \\\n136512 2022-01-04  Yorkshire and The Humber  E12000003  148.202900   \n6531   2022-01-04                   Bedford  E06000055  156.687772   \n114124 2022-01-04                   Swindon  E06000030  148.199463   \n96598  2022-01-04                  Scotland  S92000003  139.271363   \n95949  2022-01-04               Scarborough  E07000168  146.209532   \n...           ...                       ...        ...         ...   \n122318 1968-01-04                     Wales  W92000004    2.119327   \n128327 1968-01-04      West Midlands Region  E12000005    2.097808   \n135864 1968-01-04  Yorkshire and The Humber  E12000003    1.991658   \n66323  1968-01-04                    London  E12000007    1.096815   \n105384 1968-01-04                South West  E12000009    1.629179   \n\n           indexsa  salesvolume  detachedindex  semidetachedindex  \\\n136512  146.132724          NaN     153.047441         151.323145   \n6531           NaN          NaN     163.741567         159.959283   \n114124         NaN          NaN     156.135498         152.787961   \n96598   138.381544          NaN     149.204412         143.247069   \n95949          NaN          NaN     154.154580         150.156718   \n...            ...          ...            ...                ...   \n122318         NaN          NaN            NaN                NaN   \n128327         NaN          NaN            NaN                NaN   \n135864         NaN          NaN            NaN                NaN   \n66323          NaN          NaN            NaN                NaN   \n105384         NaN          NaN            NaN                NaN   \n\n        terracedindex   flatindex   cashindex  cashsalesvolume  mortgageindex  \\\n136512     145.798754  132.673982  145.060267              NaN     149.577295   \n6531       154.832405  139.746762  152.098771              NaN     157.919185   \n114124     147.158473  132.331885  144.853381              NaN     148.975622   \n96598      140.772546  130.162591  137.200014              NaN     140.245052   \n95949      146.548321  132.425144  144.358189              NaN     148.115065   \n...               ...         ...         ...              ...            ...   \n122318            NaN         NaN         NaN              NaN            NaN   \n128327            NaN         NaN         NaN              NaN            NaN   \n135864            NaN         NaN         NaN              NaN            NaN   \n66323             NaN         NaN         NaN              NaN            NaN   \n105384            NaN         NaN         NaN              NaN            NaN   \n\n        mortgagesalesvolume    ftbindex    fooindex  newindex  newsalesvolume  \\\n136512                  NaN  147.617145  148.781320       NaN             NaN   \n6531                    NaN  154.593259  158.724781       NaN             NaN   \n114124                  NaN  146.431795  150.142871       NaN             NaN   \n96598                   NaN  136.806875  141.610098       NaN             NaN   \n95949                   NaN  144.553199  147.572432       NaN             NaN   \n...                     ...         ...         ...       ...             ...   \n122318                  NaN         NaN         NaN       NaN             NaN   \n128327                  NaN         NaN         NaN       NaN             NaN   \n135864                  NaN         NaN         NaN       NaN             NaN   \n66323                   NaN         NaN         NaN       NaN             NaN   \n105384                  NaN         NaN         NaN       NaN             NaN   \n\n        oldindex  oldsalesvolume  \n136512       NaN             NaN  \n6531         NaN             NaN  \n114124       NaN             NaN  \n96598        NaN             NaN  \n95949        NaN             NaN  \n...          ...             ...  \n122318       NaN             NaN  \n128327       NaN             NaN  \n135864       NaN             NaN  \n66323        NaN             NaN  \n105384       NaN             NaN  \n\n[136513 rows x 20 columns]",
      "text/html": "<div>\n<style scoped>\n    .dataframe tbody tr th:only-of-type {\n        vertical-align: middle;\n    }\n\n    .dataframe tbody tr th {\n        vertical-align: top;\n    }\n\n    .dataframe thead th {\n        text-align: right;\n    }\n</style>\n<table border=\"1\" class=\"dataframe\">\n  <thead>\n    <tr style=\"text-align: right;\">\n      <th></th>\n      <th>hpi_date</th>\n      <th>regionname</th>\n      <th>areacode</th>\n      <th>index</th>\n      <th>indexsa</th>\n      <th>salesvolume</th>\n      <th>detachedindex</th>\n      <th>semidetachedindex</th>\n      <th>terracedindex</th>\n      <th>flatindex</th>\n      <th>cashindex</th>\n      <th>cashsalesvolume</th>\n      <th>mortgageindex</th>\n      <th>mortgagesalesvolume</th>\n      <th>ftbindex</th>\n      <th>fooindex</th>\n      <th>newindex</th>\n      <th>newsalesvolume</th>\n      <th>oldindex</th>\n      <th>oldsalesvolume</th>\n    </tr>\n  </thead>\n  <tbody>\n    <tr>\n      <th>136512</th>\n      <td>2022-01-04</td>\n      <td>Yorkshire and The Humber</td>\n      <td>E12000003</td>\n      <td>148.202900</td>\n      <td>146.132724</td>\n      <td>NaN</td>\n      <td>153.047441</td>\n      <td>151.323145</td>\n      <td>145.798754</td>\n      <td>132.673982</td>\n      <td>145.060267</td>\n      <td>NaN</td>\n      <td>149.577295</td>\n      <td>NaN</td>\n      <td>147.617145</td>\n      <td>148.781320</td>\n      <td>NaN</td>\n      <td>NaN</td>\n      <td>NaN</td>\n      <td>NaN</td>\n    </tr>\n    <tr>\n      <th>6531</th>\n      <td>2022-01-04</td>\n      <td>Bedford</td>\n      <td>E06000055</td>\n      <td>156.687772</td>\n      <td>NaN</td>\n      <td>NaN</td>\n      <td>163.741567</td>\n      <td>159.959283</td>\n      <td>154.832405</td>\n      <td>139.746762</td>\n      <td>152.098771</td>\n      <td>NaN</td>\n      <td>157.919185</td>\n      <td>NaN</td>\n      <td>154.593259</td>\n      <td>158.724781</td>\n      <td>NaN</td>\n      <td>NaN</td>\n      <td>NaN</td>\n      <td>NaN</td>\n    </tr>\n    <tr>\n      <th>114124</th>\n      <td>2022-01-04</td>\n      <td>Swindon</td>\n      <td>E06000030</td>\n      <td>148.199463</td>\n      <td>NaN</td>\n      <td>NaN</td>\n      <td>156.135498</td>\n      <td>152.787961</td>\n      <td>147.158473</td>\n      <td>132.331885</td>\n      <td>144.853381</td>\n      <td>NaN</td>\n      <td>148.975622</td>\n      <td>NaN</td>\n      <td>146.431795</td>\n      <td>150.142871</td>\n      <td>NaN</td>\n      <td>NaN</td>\n      <td>NaN</td>\n      <td>NaN</td>\n    </tr>\n    <tr>\n      <th>96598</th>\n      <td>2022-01-04</td>\n      <td>Scotland</td>\n      <td>S92000003</td>\n      <td>139.271363</td>\n      <td>138.381544</td>\n      <td>NaN</td>\n      <td>149.204412</td>\n      <td>143.247069</td>\n      <td>140.772546</td>\n      <td>130.162591</td>\n      <td>137.200014</td>\n      <td>NaN</td>\n      <td>140.245052</td>\n      <td>NaN</td>\n      <td>136.806875</td>\n      <td>141.610098</td>\n      <td>NaN</td>\n      <td>NaN</td>\n      <td>NaN</td>\n      <td>NaN</td>\n    </tr>\n    <tr>\n      <th>95949</th>\n      <td>2022-01-04</td>\n      <td>Scarborough</td>\n      <td>E07000168</td>\n      <td>146.209532</td>\n      <td>NaN</td>\n      <td>NaN</td>\n      <td>154.154580</td>\n      <td>150.156718</td>\n      <td>146.548321</td>\n      <td>132.425144</td>\n      <td>144.358189</td>\n      <td>NaN</td>\n      <td>148.115065</td>\n      <td>NaN</td>\n      <td>144.553199</td>\n      <td>147.572432</td>\n      <td>NaN</td>\n      <td>NaN</td>\n      <td>NaN</td>\n      <td>NaN</td>\n    </tr>\n    <tr>\n      <th>...</th>\n      <td>...</td>\n      <td>...</td>\n      <td>...</td>\n      <td>...</td>\n      <td>...</td>\n      <td>...</td>\n      <td>...</td>\n      <td>...</td>\n      <td>...</td>\n      <td>...</td>\n      <td>...</td>\n      <td>...</td>\n      <td>...</td>\n      <td>...</td>\n      <td>...</td>\n      <td>...</td>\n      <td>...</td>\n      <td>...</td>\n      <td>...</td>\n      <td>...</td>\n    </tr>\n    <tr>\n      <th>122318</th>\n      <td>1968-01-04</td>\n      <td>Wales</td>\n      <td>W92000004</td>\n      <td>2.119327</td>\n      <td>NaN</td>\n      <td>NaN</td>\n      <td>NaN</td>\n      <td>NaN</td>\n      <td>NaN</td>\n      <td>NaN</td>\n      <td>NaN</td>\n      <td>NaN</td>\n      <td>NaN</td>\n      <td>NaN</td>\n      <td>NaN</td>\n      <td>NaN</td>\n      <td>NaN</td>\n      <td>NaN</td>\n      <td>NaN</td>\n      <td>NaN</td>\n    </tr>\n    <tr>\n      <th>128327</th>\n      <td>1968-01-04</td>\n      <td>West Midlands Region</td>\n      <td>E12000005</td>\n      <td>2.097808</td>\n      <td>NaN</td>\n      <td>NaN</td>\n      <td>NaN</td>\n      <td>NaN</td>\n      <td>NaN</td>\n      <td>NaN</td>\n      <td>NaN</td>\n      <td>NaN</td>\n      <td>NaN</td>\n      <td>NaN</td>\n      <td>NaN</td>\n      <td>NaN</td>\n      <td>NaN</td>\n      <td>NaN</td>\n      <td>NaN</td>\n      <td>NaN</td>\n    </tr>\n    <tr>\n      <th>135864</th>\n      <td>1968-01-04</td>\n      <td>Yorkshire and The Humber</td>\n      <td>E12000003</td>\n      <td>1.991658</td>\n      <td>NaN</td>\n      <td>NaN</td>\n      <td>NaN</td>\n      <td>NaN</td>\n      <td>NaN</td>\n      <td>NaN</td>\n      <td>NaN</td>\n      <td>NaN</td>\n      <td>NaN</td>\n      <td>NaN</td>\n      <td>NaN</td>\n      <td>NaN</td>\n      <td>NaN</td>\n      <td>NaN</td>\n      <td>NaN</td>\n      <td>NaN</td>\n    </tr>\n    <tr>\n      <th>66323</th>\n      <td>1968-01-04</td>\n      <td>London</td>\n      <td>E12000007</td>\n      <td>1.096815</td>\n      <td>NaN</td>\n      <td>NaN</td>\n      <td>NaN</td>\n      <td>NaN</td>\n      <td>NaN</td>\n      <td>NaN</td>\n      <td>NaN</td>\n      <td>NaN</td>\n      <td>NaN</td>\n      <td>NaN</td>\n      <td>NaN</td>\n      <td>NaN</td>\n      <td>NaN</td>\n      <td>NaN</td>\n      <td>NaN</td>\n      <td>NaN</td>\n    </tr>\n    <tr>\n      <th>105384</th>\n      <td>1968-01-04</td>\n      <td>South West</td>\n      <td>E12000009</td>\n      <td>1.629179</td>\n      <td>NaN</td>\n      <td>NaN</td>\n      <td>NaN</td>\n      <td>NaN</td>\n      <td>NaN</td>\n      <td>NaN</td>\n      <td>NaN</td>\n      <td>NaN</td>\n      <td>NaN</td>\n      <td>NaN</td>\n      <td>NaN</td>\n      <td>NaN</td>\n      <td>NaN</td>\n      <td>NaN</td>\n      <td>NaN</td>\n      <td>NaN</td>\n    </tr>\n  </tbody>\n</table>\n<p>136513 rows × 20 columns</p>\n</div>"
     },
     "execution_count": 21,
     "metadata": {},
     "output_type": "execute_result"
    }
   ],
   "source": [
    "df_house_index"
   ],
   "metadata": {
    "collapsed": false,
    "pycharm": {
     "name": "#%%\n"
    }
   }
  },
  {
   "cell_type": "code",
   "execution_count": null,
   "outputs": [],
   "source": [
    "postcode_columns: List[Union[str, Any]] = [\n",
    "    \"postcode\",\n",
    "    \"latitude\",\n",
    "    \"longitude\",\n",
    "    \"grid_ref\",\n",
    "    \"county\",\n",
    "    \"district\",\n",
    "    \"ward\",\n",
    "    \"district_code\",\n",
    "    \"ward_code\",\n",
    "    \"county_code\",\n",
    "    \"constituency\",\n",
    "    \"region\",\n",
    "    \"london_zone\",\n",
    "    \"middle_layer_super_output_area\",\n",
    "    \"postcode_area\",\n",
    "    \"postcode_district\",\n",
    "    \"index_of_multiple_deprivation\",\n",
    "    \"quality\",\n",
    "    \"user_type\",\n",
    "    \"last_updated\",\n",
    "    \"nearest_station\",\n",
    "    \"distance_to_station\",\n",
    "    \"postcode_area\",\n",
    "    \"postcode_district\",\n",
    "    \"police_force\",\n",
    "    \"water_company\",\n",
    "    \"plus_code\",\n",
    "    \"average_income\",\n",
    "    \"sewage_company\",\n",
    "    \"travel_to_work_area\",\n",
    "    \"rural_urban\",\n",
    "    \"altitude\",\n",
    "]"
   ],
   "metadata": {
    "collapsed": false,
    "pycharm": {
     "name": "#%%\n"
    }
   }
  },
  {
   "cell_type": "code",
   "execution_count": null,
   "outputs": [],
   "source": [
    "df_postcode = df_postcode.pipe(clean_names).loc[:, postcode_columns]\n"
   ],
   "metadata": {
    "collapsed": false,
    "pycharm": {
     "name": "#%%\n"
    }
   }
  },
  {
   "cell_type": "code",
   "execution_count": null,
   "outputs": [],
   "source": [
    "pp_index_columns = {\n",
    "    \"detachedindex\": \"pp_detached_index\",\n",
    "    \"semidetachedindex\": \"pp_semi_detached_index\",\n",
    "    \"terracedindex\": \"pp_terraced_index\",\n",
    "    \"flatindex\": \"pp_flat_index\",\n",
    "}\n",
    "\n",
    "pp_avg_columns = [\n",
    "    \"pp_detached_index\",\n",
    "    \"pp_semi_detached_index\",\n",
    "    \"pp_terraced_index\",\n",
    "    \"pp_flat_index\",\n",
    "]"
   ],
   "metadata": {
    "collapsed": false,
    "pycharm": {
     "name": "#%%\n"
    }
   }
  },
  {
   "cell_type": "code",
   "execution_count": null,
   "outputs": [],
   "source": [
    "avg_columns = [\"detachedindex\", \"semidetachedindex\", \"terracedindex\", \"flatindex\"]\n",
    "\n",
    "logger.info(df_price_paid.columns)\n",
    "logger.info(df_house_index.columns)\n",
    "\n",
    "df_price_paid = (\n",
    "    df_price_paid.merge(df_postcode, on=\"postcode\")\n",
    "    .merge(\n",
    "        df_house_index,\n",
    "        how=\"left\",\n",
    "        left_on=[\"district_code\", \"month_year\"],\n",
    "        right_on=[\"areacode\", \"hpi_date\"],\n",
    "    )\n",
    "    .rename(pp_index_columns, axis=\"columns\")\n",
    "    .pipe(mean_column, \"pp_average_index\", pp_avg_columns)\n",
    "    .merge(\n",
    "        df_house_index,\n",
    "        how=\"left\",\n",
    "        left_on=[\"district_code\", \"current_month\"],\n",
    "        right_on=[\"areacode\", \"hpi_date\"],\n",
    "    )\n",
    "    .pipe(mean_column, \"averageindex\", avg_columns)\n",
    "    .pipe(adjust_price, \"T\", \"terracedindex\", \"pp_terraced_index\")\n",
    "    .pipe(adjust_price, \"S\", \"semidetachedindex\", \"pp_semi_detached_index\")\n",
    "    .pipe(adjust_price, \"D\", \"detachedindex\", \"pp_detached_index\")\n",
    "    .pipe(adjust_price, \"F\", \"flatindex\", \"pp_flat_index\")\n",
    "    .pipe(adjust_price, \"O\", \"averageindex\", \"pp_average_index\")\n",
    ")\n",
    "\n",
    "logger.info(df_price_paid.head())\n"
   ],
   "metadata": {
    "collapsed": false,
    "pycharm": {
     "name": "#%%\n"
    }
   }
  },
  {
   "cell_type": "code",
   "execution_count": null,
   "outputs": [],
   "source": [
    "duplicate_list = [\n",
    "    \"date\",\n",
    "    \"postcode\",\n",
    "    \"type\",\n",
    "    \"new_build\",\n",
    "    \"land\",\n",
    "    \"primary_address\",\n",
    "    \"secondary_address\",\n",
    "    \"street\",\n",
    "    \"ppd\",\n",
    "    \"record\",\n",
    "    \"month_year\",\n",
    "    \"current_month\",\n",
    "    \"latitude\",\n",
    "    \"longitude\",\n",
    "    \"grid_ref\",\n",
    "    \"county\",\n",
    "    \"district\",\n",
    "    \"ward\",\n",
    "    \"district_code\",\n",
    "    \"ward_code\",\n",
    "    \"county_code\",\n",
    "    \"region\",\n",
    "    \"london_zone\",\n",
    "    \"middle_layer_super_output_area\",\n",
    "    \"postcode_area\",\n",
    "    \"postcode_district\",\n",
    "    \"hpi_date\",\n",
    "    # \"regionname\",\n",
    "    # \"areacode\",\n",
    "]\n",
    "\n",
    "\n",
    "logger.info(df_price_paid.columns)\n",
    "\n",
    "df_price_paid = (\n",
    "    df_price_paid.pipe(drop_columns, string=\"e_y|index\")\n",
    "    .rename(\n",
    "        {\n",
    "            \"hpi_date_x\": \"hpi_date\",\n",
    "            \"region_name_x\": \"regionname\",\n",
    "            \"areacode_x\": \"areacode\",\n",
    "        },\n",
    "        axis=\"columns\",\n",
    "    )\n",
    "    .sort_values(by=[\"date\"])\n",
    "    .drop_duplicates(subset=duplicate_list, keep=\"last\")\n",
    ")\n",
    "logger.info(df_price_paid.head())\n",
    "\n",
    "df_price_paid = df_price_paid[df_price_paid[\"adjusted_price\"].notnull()]\n",
    "df_price_paid[\"adjusted_price\"] = df_price_paid[\"adjusted_price\"].astype(int)\n",
    "df_price_paid = df_price_paid[\n",
    "    (np.abs(stats.zscore(df_price_paid[\"adjusted_price\"])) < 3)\n",
    "]\n",
    "df_price_paid[\"london_zone\"] = df_price_paid[\"london_zone\"].fillna(\n",
    "    df_price_paid.london_zone.max() + 1.0\n",
    ")\n",
    "\n",
    "logger.info(df_price_paid.head())\n",
    "logger.info(\"Completed processing\")\n",
    "\n",
    "# logger.info(df_price_paid.dtypes)\n",
    "#\n",
    "# #  Drop the duplicates, keeping only the first instance.\n",
    "# df_price_paid.to_parquet(\"./data/processed/pp_sample_clean.parquet\", index=False)\n",
    "#\n",
    "# logger.info(\"Transformed data saved\")\n"
   ],
   "metadata": {
    "collapsed": false,
    "pycharm": {
     "name": "#%%\n"
    }
   }
  },
  {
   "cell_type": "code",
   "execution_count": null,
   "outputs": [],
   "source": [],
   "metadata": {
    "collapsed": false,
    "pycharm": {
     "name": "#%%\n"
    }
   }
  },
  {
   "cell_type": "code",
   "execution_count": null,
   "outputs": [],
   "source": [],
   "metadata": {
    "collapsed": false,
    "pycharm": {
     "name": "#%%\n"
    }
   }
  },
  {
   "cell_type": "code",
   "execution_count": null,
   "outputs": [],
   "source": [],
   "metadata": {
    "collapsed": false,
    "pycharm": {
     "name": "#%%\n"
    }
   }
  }
 ],
 "metadata": {
  "kernelspec": {
   "name": "zanasonic-etl",
   "language": "python",
   "display_name": "zanasonic-etl"
  },
  "language_info": {
   "codemirror_mode": {
    "name": "ipython",
    "version": 2
   },
   "file_extension": ".py",
   "mimetype": "text/x-python",
   "name": "python",
   "nbconvert_exporter": "python",
   "pygments_lexer": "ipython2",
   "version": "2.7.6"
  }
 },
 "nbformat": 4,
 "nbformat_minor": 0
}